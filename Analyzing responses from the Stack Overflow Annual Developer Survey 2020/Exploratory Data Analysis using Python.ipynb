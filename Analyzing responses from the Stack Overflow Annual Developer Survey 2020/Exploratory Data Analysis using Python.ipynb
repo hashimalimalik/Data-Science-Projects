{
 "cells": [
  {
   "cell_type": "markdown",
   "metadata": {},
   "source": [
    "# Exploratory Data Analysis using Python - A Case Study\n",
    "\n",
    "*Analyzing responses from the Stack Overflow Annual Developer Survey 2020*"
   ]
  },
  {
   "cell_type": "markdown",
   "metadata": {},
   "source": [
    "## Introduction\n",
    "\n",
    "We'll use the StackOverflow developer survey dataset for our analysis. This is an annual survey conducted by StackOverflow, and you can find the raw data & results here: https://insights.stackoverflow.com/survey.\n",
    "\n",
    "There are several options for getting the dataset into Jupyter:\n",
    "\n",
    "- Download the CSV manually and upload it via Jupyter's GUI\n",
    "- Use the `urlretrieve` function from the `urllib.request` to download CSV files from a raw URL directly\n",
    "- Use a helper library e.g. [`opendatasets`](https://github.com/JovianML/opendatasets), which contains a collection of curated datasets and provides a function for directly download.\n",
    "\n",
    "We'll use the `opendatasets` helper library to download the files."
   ]
  },
  {
   "cell_type": "code",
   "execution_count": 1,
   "metadata": {},
   "outputs": [],
   "source": [
    "import opendatasets as od"
   ]
  },
  {
   "cell_type": "code",
   "execution_count": 2,
   "metadata": {},
   "outputs": [
    {
     "name": "stderr",
     "output_type": "stream",
     "text": [
      "\r",
      "0it [00:00, ?it/s]"
     ]
    },
    {
     "name": "stdout",
     "output_type": "stream",
     "text": [
      "Downloading https://raw.githubusercontent.com/JovianML/opendatasets/master/data/stackoverflow-developer-survey-2020/survey_results_public.csv to .\\stackoverflow-developer-survey-2020\\survey_results_public.csv\n"
     ]
    },
    {
     "name": "stderr",
     "output_type": "stream",
     "text": [
      "100%|████████████████████████████████████████████████████████████████▋| 94183424/94603888 [00:34<00:00, 3836195.93it/s]\n",
      "0it [00:00, ?it/s]\u001b[A"
     ]
    },
    {
     "name": "stdout",
     "output_type": "stream",
     "text": [
      "Downloading https://raw.githubusercontent.com/JovianML/opendatasets/master/data/stackoverflow-developer-survey-2020/survey_results_schema.csv to .\\stackoverflow-developer-survey-2020\\survey_results_schema.csv\n"
     ]
    },
    {
     "name": "stderr",
     "output_type": "stream",
     "text": [
      "\n",
      "16384it [00:00, 64010.18it/s]                                                                                          \u001b[A\n",
      "\n",
      "0it [00:00, ?it/s]\u001b[A"
     ]
    },
    {
     "name": "stdout",
     "output_type": "stream",
     "text": [
      "Downloading https://raw.githubusercontent.com/JovianML/opendatasets/master/data/stackoverflow-developer-survey-2020/README.txt to .\\stackoverflow-developer-survey-2020\\README.txt\n"
     ]
    },
    {
     "name": "stderr",
     "output_type": "stream",
     "text": [
      "\n",
      "8192it [00:00, 32979.01it/s]                                                                                           \u001b[A\n"
     ]
    }
   ],
   "source": [
    "od.download('stackoverflow-developer-survey-2020')"
   ]
  },
  {
   "cell_type": "markdown",
   "metadata": {},
   "source": [
    "Let's verify that the dataset was downloaded into the directory `stackoverflow-developer-survey-2020`, and retrieve the list of files in the dataset."
   ]
  },
  {
   "cell_type": "code",
   "execution_count": 3,
   "metadata": {},
   "outputs": [],
   "source": [
    "import os"
   ]
  },
  {
   "cell_type": "code",
   "execution_count": 4,
   "metadata": {},
   "outputs": [
    {
     "data": {
      "text/plain": [
       "['README.txt', 'survey_results_public.csv', 'survey_results_schema.csv']"
      ]
     },
     "execution_count": 4,
     "metadata": {},
     "output_type": "execute_result"
    }
   ],
   "source": [
    "os.listdir('stackoverflow-developer-survey-2020')"
   ]
  },
  {
   "cell_type": "markdown",
   "metadata": {},
   "source": [
    "You can through the downloaded files using `File > Open` menu option in Jupyter. It seems like the dataset contains 3 files:\n",
    "\n",
    "- `README.txt` - containing information about the dataset\n",
    "- `survey_results_schema.csv` - containing the list of questions (and short codes for each question)\n",
    "- `survey_results_public.csv` - the full list of responses to the questions \n",
    "\n",
    "Let's load the CSV files using the Pandas library. We'll use the name `survey_raw_df` for the data frame, to indicate that this is unprocessed data that which we might clean, filter and modify to prepare a data frame that's ready for analysis."
   ]
  },
  {
   "cell_type": "code",
   "execution_count": 5,
   "metadata": {},
   "outputs": [],
   "source": [
    "import pandas as pd"
   ]
  },
  {
   "cell_type": "code",
   "execution_count": 6,
   "metadata": {},
   "outputs": [],
   "source": [
    "survey_raw_df = pd.read_csv('stackoverflow-developer-survey-2020/survey_results_public.csv')"
   ]
  },
  {
   "cell_type": "code",
   "execution_count": 7,
   "metadata": {},
   "outputs": [
    {
     "data": {
      "text/html": [
       "<div>\n",
       "<style scoped>\n",
       "    .dataframe tbody tr th:only-of-type {\n",
       "        vertical-align: middle;\n",
       "    }\n",
       "\n",
       "    .dataframe tbody tr th {\n",
       "        vertical-align: top;\n",
       "    }\n",
       "\n",
       "    .dataframe thead th {\n",
       "        text-align: right;\n",
       "    }\n",
       "</style>\n",
       "<table border=\"1\" class=\"dataframe\">\n",
       "  <thead>\n",
       "    <tr style=\"text-align: right;\">\n",
       "      <th></th>\n",
       "      <th>Respondent</th>\n",
       "      <th>MainBranch</th>\n",
       "      <th>Hobbyist</th>\n",
       "      <th>Age</th>\n",
       "      <th>Age1stCode</th>\n",
       "      <th>CompFreq</th>\n",
       "      <th>CompTotal</th>\n",
       "      <th>ConvertedComp</th>\n",
       "      <th>Country</th>\n",
       "      <th>CurrencyDesc</th>\n",
       "      <th>...</th>\n",
       "      <th>SurveyEase</th>\n",
       "      <th>SurveyLength</th>\n",
       "      <th>Trans</th>\n",
       "      <th>UndergradMajor</th>\n",
       "      <th>WebframeDesireNextYear</th>\n",
       "      <th>WebframeWorkedWith</th>\n",
       "      <th>WelcomeChange</th>\n",
       "      <th>WorkWeekHrs</th>\n",
       "      <th>YearsCode</th>\n",
       "      <th>YearsCodePro</th>\n",
       "    </tr>\n",
       "  </thead>\n",
       "  <tbody>\n",
       "    <tr>\n",
       "      <th>0</th>\n",
       "      <td>1</td>\n",
       "      <td>I am a developer by profession</td>\n",
       "      <td>Yes</td>\n",
       "      <td>NaN</td>\n",
       "      <td>13</td>\n",
       "      <td>Monthly</td>\n",
       "      <td>NaN</td>\n",
       "      <td>NaN</td>\n",
       "      <td>Germany</td>\n",
       "      <td>European Euro</td>\n",
       "      <td>...</td>\n",
       "      <td>Neither easy nor difficult</td>\n",
       "      <td>Appropriate in length</td>\n",
       "      <td>No</td>\n",
       "      <td>Computer science, computer engineering, or sof...</td>\n",
       "      <td>ASP.NET Core</td>\n",
       "      <td>ASP.NET;ASP.NET Core</td>\n",
       "      <td>Just as welcome now as I felt last year</td>\n",
       "      <td>50.0</td>\n",
       "      <td>36</td>\n",
       "      <td>27</td>\n",
       "    </tr>\n",
       "    <tr>\n",
       "      <th>1</th>\n",
       "      <td>2</td>\n",
       "      <td>I am a developer by profession</td>\n",
       "      <td>No</td>\n",
       "      <td>NaN</td>\n",
       "      <td>19</td>\n",
       "      <td>NaN</td>\n",
       "      <td>NaN</td>\n",
       "      <td>NaN</td>\n",
       "      <td>United Kingdom</td>\n",
       "      <td>Pound sterling</td>\n",
       "      <td>...</td>\n",
       "      <td>NaN</td>\n",
       "      <td>NaN</td>\n",
       "      <td>NaN</td>\n",
       "      <td>Computer science, computer engineering, or sof...</td>\n",
       "      <td>NaN</td>\n",
       "      <td>NaN</td>\n",
       "      <td>Somewhat more welcome now than last year</td>\n",
       "      <td>NaN</td>\n",
       "      <td>7</td>\n",
       "      <td>4</td>\n",
       "    </tr>\n",
       "    <tr>\n",
       "      <th>2</th>\n",
       "      <td>3</td>\n",
       "      <td>I code primarily as a hobby</td>\n",
       "      <td>Yes</td>\n",
       "      <td>NaN</td>\n",
       "      <td>15</td>\n",
       "      <td>NaN</td>\n",
       "      <td>NaN</td>\n",
       "      <td>NaN</td>\n",
       "      <td>Russian Federation</td>\n",
       "      <td>NaN</td>\n",
       "      <td>...</td>\n",
       "      <td>Neither easy nor difficult</td>\n",
       "      <td>Appropriate in length</td>\n",
       "      <td>NaN</td>\n",
       "      <td>NaN</td>\n",
       "      <td>NaN</td>\n",
       "      <td>NaN</td>\n",
       "      <td>Somewhat more welcome now than last year</td>\n",
       "      <td>NaN</td>\n",
       "      <td>4</td>\n",
       "      <td>NaN</td>\n",
       "    </tr>\n",
       "    <tr>\n",
       "      <th>3</th>\n",
       "      <td>4</td>\n",
       "      <td>I am a developer by profession</td>\n",
       "      <td>Yes</td>\n",
       "      <td>25.0</td>\n",
       "      <td>18</td>\n",
       "      <td>NaN</td>\n",
       "      <td>NaN</td>\n",
       "      <td>NaN</td>\n",
       "      <td>Albania</td>\n",
       "      <td>Albanian lek</td>\n",
       "      <td>...</td>\n",
       "      <td>NaN</td>\n",
       "      <td>NaN</td>\n",
       "      <td>No</td>\n",
       "      <td>Computer science, computer engineering, or sof...</td>\n",
       "      <td>NaN</td>\n",
       "      <td>NaN</td>\n",
       "      <td>Somewhat less welcome now than last year</td>\n",
       "      <td>40.0</td>\n",
       "      <td>7</td>\n",
       "      <td>4</td>\n",
       "    </tr>\n",
       "    <tr>\n",
       "      <th>4</th>\n",
       "      <td>5</td>\n",
       "      <td>I used to be a developer by profession, but no...</td>\n",
       "      <td>Yes</td>\n",
       "      <td>31.0</td>\n",
       "      <td>16</td>\n",
       "      <td>NaN</td>\n",
       "      <td>NaN</td>\n",
       "      <td>NaN</td>\n",
       "      <td>United States</td>\n",
       "      <td>NaN</td>\n",
       "      <td>...</td>\n",
       "      <td>Easy</td>\n",
       "      <td>Too short</td>\n",
       "      <td>No</td>\n",
       "      <td>Computer science, computer engineering, or sof...</td>\n",
       "      <td>Django;Ruby on Rails</td>\n",
       "      <td>Ruby on Rails</td>\n",
       "      <td>Just as welcome now as I felt last year</td>\n",
       "      <td>NaN</td>\n",
       "      <td>15</td>\n",
       "      <td>8</td>\n",
       "    </tr>\n",
       "    <tr>\n",
       "      <th>...</th>\n",
       "      <td>...</td>\n",
       "      <td>...</td>\n",
       "      <td>...</td>\n",
       "      <td>...</td>\n",
       "      <td>...</td>\n",
       "      <td>...</td>\n",
       "      <td>...</td>\n",
       "      <td>...</td>\n",
       "      <td>...</td>\n",
       "      <td>...</td>\n",
       "      <td>...</td>\n",
       "      <td>...</td>\n",
       "      <td>...</td>\n",
       "      <td>...</td>\n",
       "      <td>...</td>\n",
       "      <td>...</td>\n",
       "      <td>...</td>\n",
       "      <td>...</td>\n",
       "      <td>...</td>\n",
       "      <td>...</td>\n",
       "      <td>...</td>\n",
       "    </tr>\n",
       "    <tr>\n",
       "      <th>64456</th>\n",
       "      <td>64858</td>\n",
       "      <td>NaN</td>\n",
       "      <td>Yes</td>\n",
       "      <td>NaN</td>\n",
       "      <td>16</td>\n",
       "      <td>NaN</td>\n",
       "      <td>NaN</td>\n",
       "      <td>NaN</td>\n",
       "      <td>United States</td>\n",
       "      <td>NaN</td>\n",
       "      <td>...</td>\n",
       "      <td>NaN</td>\n",
       "      <td>NaN</td>\n",
       "      <td>NaN</td>\n",
       "      <td>Computer science, computer engineering, or sof...</td>\n",
       "      <td>NaN</td>\n",
       "      <td>NaN</td>\n",
       "      <td>NaN</td>\n",
       "      <td>NaN</td>\n",
       "      <td>10</td>\n",
       "      <td>Less than 1 year</td>\n",
       "    </tr>\n",
       "    <tr>\n",
       "      <th>64457</th>\n",
       "      <td>64867</td>\n",
       "      <td>NaN</td>\n",
       "      <td>Yes</td>\n",
       "      <td>NaN</td>\n",
       "      <td>NaN</td>\n",
       "      <td>NaN</td>\n",
       "      <td>NaN</td>\n",
       "      <td>NaN</td>\n",
       "      <td>Morocco</td>\n",
       "      <td>NaN</td>\n",
       "      <td>...</td>\n",
       "      <td>NaN</td>\n",
       "      <td>NaN</td>\n",
       "      <td>NaN</td>\n",
       "      <td>NaN</td>\n",
       "      <td>NaN</td>\n",
       "      <td>NaN</td>\n",
       "      <td>NaN</td>\n",
       "      <td>NaN</td>\n",
       "      <td>NaN</td>\n",
       "      <td>NaN</td>\n",
       "    </tr>\n",
       "    <tr>\n",
       "      <th>64458</th>\n",
       "      <td>64898</td>\n",
       "      <td>NaN</td>\n",
       "      <td>Yes</td>\n",
       "      <td>NaN</td>\n",
       "      <td>NaN</td>\n",
       "      <td>NaN</td>\n",
       "      <td>NaN</td>\n",
       "      <td>NaN</td>\n",
       "      <td>Viet Nam</td>\n",
       "      <td>NaN</td>\n",
       "      <td>...</td>\n",
       "      <td>NaN</td>\n",
       "      <td>NaN</td>\n",
       "      <td>NaN</td>\n",
       "      <td>NaN</td>\n",
       "      <td>NaN</td>\n",
       "      <td>NaN</td>\n",
       "      <td>NaN</td>\n",
       "      <td>NaN</td>\n",
       "      <td>NaN</td>\n",
       "      <td>NaN</td>\n",
       "    </tr>\n",
       "    <tr>\n",
       "      <th>64459</th>\n",
       "      <td>64925</td>\n",
       "      <td>NaN</td>\n",
       "      <td>Yes</td>\n",
       "      <td>NaN</td>\n",
       "      <td>NaN</td>\n",
       "      <td>NaN</td>\n",
       "      <td>NaN</td>\n",
       "      <td>NaN</td>\n",
       "      <td>Poland</td>\n",
       "      <td>NaN</td>\n",
       "      <td>...</td>\n",
       "      <td>NaN</td>\n",
       "      <td>NaN</td>\n",
       "      <td>NaN</td>\n",
       "      <td>NaN</td>\n",
       "      <td>Angular;Angular.js;React.js</td>\n",
       "      <td>NaN</td>\n",
       "      <td>NaN</td>\n",
       "      <td>NaN</td>\n",
       "      <td>NaN</td>\n",
       "      <td>NaN</td>\n",
       "    </tr>\n",
       "    <tr>\n",
       "      <th>64460</th>\n",
       "      <td>65112</td>\n",
       "      <td>NaN</td>\n",
       "      <td>Yes</td>\n",
       "      <td>NaN</td>\n",
       "      <td>NaN</td>\n",
       "      <td>NaN</td>\n",
       "      <td>NaN</td>\n",
       "      <td>NaN</td>\n",
       "      <td>Spain</td>\n",
       "      <td>NaN</td>\n",
       "      <td>...</td>\n",
       "      <td>NaN</td>\n",
       "      <td>NaN</td>\n",
       "      <td>NaN</td>\n",
       "      <td>Computer science, computer engineering, or sof...</td>\n",
       "      <td>ASP.NET Core;jQuery</td>\n",
       "      <td>Angular;Angular.js;ASP.NET Core;jQuery</td>\n",
       "      <td>NaN</td>\n",
       "      <td>NaN</td>\n",
       "      <td>NaN</td>\n",
       "      <td>NaN</td>\n",
       "    </tr>\n",
       "  </tbody>\n",
       "</table>\n",
       "<p>64461 rows × 61 columns</p>\n",
       "</div>"
      ],
      "text/plain": [
       "       Respondent                                         MainBranch Hobbyist  \\\n",
       "0               1                     I am a developer by profession      Yes   \n",
       "1               2                     I am a developer by profession       No   \n",
       "2               3                        I code primarily as a hobby      Yes   \n",
       "3               4                     I am a developer by profession      Yes   \n",
       "4               5  I used to be a developer by profession, but no...      Yes   \n",
       "...           ...                                                ...      ...   \n",
       "64456       64858                                                NaN      Yes   \n",
       "64457       64867                                                NaN      Yes   \n",
       "64458       64898                                                NaN      Yes   \n",
       "64459       64925                                                NaN      Yes   \n",
       "64460       65112                                                NaN      Yes   \n",
       "\n",
       "        Age Age1stCode CompFreq  CompTotal  ConvertedComp             Country  \\\n",
       "0       NaN         13  Monthly        NaN            NaN             Germany   \n",
       "1       NaN         19      NaN        NaN            NaN      United Kingdom   \n",
       "2       NaN         15      NaN        NaN            NaN  Russian Federation   \n",
       "3      25.0         18      NaN        NaN            NaN             Albania   \n",
       "4      31.0         16      NaN        NaN            NaN       United States   \n",
       "...     ...        ...      ...        ...            ...                 ...   \n",
       "64456   NaN         16      NaN        NaN            NaN       United States   \n",
       "64457   NaN        NaN      NaN        NaN            NaN             Morocco   \n",
       "64458   NaN        NaN      NaN        NaN            NaN            Viet Nam   \n",
       "64459   NaN        NaN      NaN        NaN            NaN              Poland   \n",
       "64460   NaN        NaN      NaN        NaN            NaN               Spain   \n",
       "\n",
       "         CurrencyDesc  ...                  SurveyEase           SurveyLength  \\\n",
       "0       European Euro  ...  Neither easy nor difficult  Appropriate in length   \n",
       "1      Pound sterling  ...                         NaN                    NaN   \n",
       "2                 NaN  ...  Neither easy nor difficult  Appropriate in length   \n",
       "3        Albanian lek  ...                         NaN                    NaN   \n",
       "4                 NaN  ...                        Easy              Too short   \n",
       "...               ...  ...                         ...                    ...   \n",
       "64456             NaN  ...                         NaN                    NaN   \n",
       "64457             NaN  ...                         NaN                    NaN   \n",
       "64458             NaN  ...                         NaN                    NaN   \n",
       "64459             NaN  ...                         NaN                    NaN   \n",
       "64460             NaN  ...                         NaN                    NaN   \n",
       "\n",
       "      Trans                                     UndergradMajor  \\\n",
       "0        No  Computer science, computer engineering, or sof...   \n",
       "1       NaN  Computer science, computer engineering, or sof...   \n",
       "2       NaN                                                NaN   \n",
       "3        No  Computer science, computer engineering, or sof...   \n",
       "4        No  Computer science, computer engineering, or sof...   \n",
       "...     ...                                                ...   \n",
       "64456   NaN  Computer science, computer engineering, or sof...   \n",
       "64457   NaN                                                NaN   \n",
       "64458   NaN                                                NaN   \n",
       "64459   NaN                                                NaN   \n",
       "64460   NaN  Computer science, computer engineering, or sof...   \n",
       "\n",
       "            WebframeDesireNextYear                      WebframeWorkedWith  \\\n",
       "0                     ASP.NET Core                    ASP.NET;ASP.NET Core   \n",
       "1                              NaN                                     NaN   \n",
       "2                              NaN                                     NaN   \n",
       "3                              NaN                                     NaN   \n",
       "4             Django;Ruby on Rails                           Ruby on Rails   \n",
       "...                            ...                                     ...   \n",
       "64456                          NaN                                     NaN   \n",
       "64457                          NaN                                     NaN   \n",
       "64458                          NaN                                     NaN   \n",
       "64459  Angular;Angular.js;React.js                                     NaN   \n",
       "64460          ASP.NET Core;jQuery  Angular;Angular.js;ASP.NET Core;jQuery   \n",
       "\n",
       "                                  WelcomeChange WorkWeekHrs YearsCode  \\\n",
       "0       Just as welcome now as I felt last year        50.0        36   \n",
       "1      Somewhat more welcome now than last year         NaN         7   \n",
       "2      Somewhat more welcome now than last year         NaN         4   \n",
       "3      Somewhat less welcome now than last year        40.0         7   \n",
       "4       Just as welcome now as I felt last year         NaN        15   \n",
       "...                                         ...         ...       ...   \n",
       "64456                                       NaN         NaN        10   \n",
       "64457                                       NaN         NaN       NaN   \n",
       "64458                                       NaN         NaN       NaN   \n",
       "64459                                       NaN         NaN       NaN   \n",
       "64460                                       NaN         NaN       NaN   \n",
       "\n",
       "           YearsCodePro  \n",
       "0                    27  \n",
       "1                     4  \n",
       "2                   NaN  \n",
       "3                     4  \n",
       "4                     8  \n",
       "...                 ...  \n",
       "64456  Less than 1 year  \n",
       "64457               NaN  \n",
       "64458               NaN  \n",
       "64459               NaN  \n",
       "64460               NaN  \n",
       "\n",
       "[64461 rows x 61 columns]"
      ]
     },
     "execution_count": 7,
     "metadata": {},
     "output_type": "execute_result"
    }
   ],
   "source": [
    "survey_raw_df"
   ]
  },
  {
   "cell_type": "markdown",
   "metadata": {},
   "source": [
    "The dataset contains over 64,000 responses to 60 questions (although many questions are optional). The responses have been anonymized and there's no personally identifiable information available to us - although each respondent has been assigned a randomized respondent ID.\n",
    "\n",
    "Let's view the list of columns in the data frame. "
   ]
  },
  {
   "cell_type": "code",
   "execution_count": 8,
   "metadata": {},
   "outputs": [
    {
     "data": {
      "text/plain": [
       "Index(['Respondent', 'MainBranch', 'Hobbyist', 'Age', 'Age1stCode', 'CompFreq',\n",
       "       'CompTotal', 'ConvertedComp', 'Country', 'CurrencyDesc',\n",
       "       'CurrencySymbol', 'DatabaseDesireNextYear', 'DatabaseWorkedWith',\n",
       "       'DevType', 'EdLevel', 'Employment', 'Ethnicity', 'Gender', 'JobFactors',\n",
       "       'JobSat', 'JobSeek', 'LanguageDesireNextYear', 'LanguageWorkedWith',\n",
       "       'MiscTechDesireNextYear', 'MiscTechWorkedWith',\n",
       "       'NEWCollabToolsDesireNextYear', 'NEWCollabToolsWorkedWith', 'NEWDevOps',\n",
       "       'NEWDevOpsImpt', 'NEWEdImpt', 'NEWJobHunt', 'NEWJobHuntResearch',\n",
       "       'NEWLearn', 'NEWOffTopic', 'NEWOnboardGood', 'NEWOtherComms',\n",
       "       'NEWOvertime', 'NEWPurchaseResearch', 'NEWPurpleLink', 'NEWSOSites',\n",
       "       'NEWStuck', 'OpSys', 'OrgSize', 'PlatformDesireNextYear',\n",
       "       'PlatformWorkedWith', 'PurchaseWhat', 'Sexuality', 'SOAccount',\n",
       "       'SOComm', 'SOPartFreq', 'SOVisitFreq', 'SurveyEase', 'SurveyLength',\n",
       "       'Trans', 'UndergradMajor', 'WebframeDesireNextYear',\n",
       "       'WebframeWorkedWith', 'WelcomeChange', 'WorkWeekHrs', 'YearsCode',\n",
       "       'YearsCodePro'],\n",
       "      dtype='object')"
      ]
     },
     "execution_count": 8,
     "metadata": {},
     "output_type": "execute_result"
    }
   ],
   "source": [
    "survey_raw_df.columns"
   ]
  },
  {
   "cell_type": "markdown",
   "metadata": {},
   "source": [
    "It appears that short codes for questions are used as column names. \n",
    "\n",
    "We can refer to the schema file to see the full text of each question. The schema file contains only two columns: `Column` and `QuestionText`, so we can load it as Pandas Series with `Column` as the index and the  `QuestionText` as the value."
   ]
  },
  {
   "cell_type": "code",
   "execution_count": 9,
   "metadata": {},
   "outputs": [],
   "source": [
    "schema_fname = 'stackoverflow-developer-survey-2020/survey_results_schema.csv'\n",
    "schema_raw = pd.read_csv(schema_fname, index_col='Column').QuestionText"
   ]
  },
  {
   "cell_type": "code",
   "execution_count": 10,
   "metadata": {},
   "outputs": [
    {
     "data": {
      "text/plain": [
       "Column\n",
       "Respondent            Randomized respondent ID number (not in order ...\n",
       "MainBranch            Which of the following options best describes ...\n",
       "Hobbyist                                        Do you code as a hobby?\n",
       "Age                   What is your age (in years)? If you prefer not...\n",
       "Age1stCode            At what age did you write your first line of c...\n",
       "                                            ...                        \n",
       "WebframeWorkedWith    Which web frameworks have you done extensive d...\n",
       "WelcomeChange         Compared to last year, how welcome do you feel...\n",
       "WorkWeekHrs           On average, how many hours per week do you wor...\n",
       "YearsCode             Including any education, how many years have y...\n",
       "YearsCodePro          NOT including education, how many years have y...\n",
       "Name: QuestionText, Length: 61, dtype: object"
      ]
     },
     "execution_count": 10,
     "metadata": {},
     "output_type": "execute_result"
    },
    {
     "name": "stderr",
     "output_type": "stream",
     "text": [
      "\r",
      "94609408it [00:50, 3836195.93it/s]                                                                                     "
     ]
    }
   ],
   "source": [
    "schema_raw"
   ]
  },
  {
   "cell_type": "markdown",
   "metadata": {},
   "source": [
    "We can now use `schema_raw` to retrieve the full question text for any column in `survey_raw_df`."
   ]
  },
  {
   "cell_type": "code",
   "execution_count": 11,
   "metadata": {},
   "outputs": [
    {
     "data": {
      "text/plain": [
       "'NOT including education, how many years have you coded professionally (as a part of your work)?'"
      ]
     },
     "execution_count": 11,
     "metadata": {},
     "output_type": "execute_result"
    }
   ],
   "source": [
    "schema_raw['YearsCodePro']"
   ]
  },
  {
   "cell_type": "markdown",
   "metadata": {},
   "source": [
    "We've now loaded the dataset, and we're ready to move on to the next step of preprocessing & cleaning the data for our analysis."
   ]
  },
  {
   "cell_type": "markdown",
   "metadata": {},
   "source": [
    "## Data Preparation & Cleaning\n",
    "\n",
    "While the survey responses contain a wealth of information, we'll limit our analysis to the following areas:\n",
    "\n",
    "- Demographics of the survey respondents & the global programming community\n",
    "- Distribution of programming skills, experience and preferences\n",
    "- Employment-related information, preferences & opinions\n",
    "\n",
    "Let's select a subset of columns with the relevant data for our analysis."
   ]
  },
  {
   "cell_type": "code",
   "execution_count": 12,
   "metadata": {},
   "outputs": [],
   "source": [
    "selected_columns = [\n",
    "    # Demographics\n",
    "    'Country',\n",
    "    'Age',\n",
    "    'Gender',\n",
    "    'EdLevel',\n",
    "    'UndergradMajor',\n",
    "    # Programming experience\n",
    "    'Hobbyist',\n",
    "    'Age1stCode',\n",
    "    'YearsCode',\n",
    "    'YearsCodePro',\n",
    "    'LanguageWorkedWith',\n",
    "    'LanguageDesireNextYear',\n",
    "    'NEWLearn',\n",
    "    'NEWStuck',\n",
    "    # Employment\n",
    "    'Employment',\n",
    "    'DevType',\n",
    "    'WorkWeekHrs',\n",
    "    'JobSat',\n",
    "    'JobFactors',\n",
    "    'NEWOvertime',\n",
    "    'NEWEdImpt'\n",
    "]"
   ]
  },
  {
   "cell_type": "code",
   "execution_count": 13,
   "metadata": {},
   "outputs": [
    {
     "data": {
      "text/plain": [
       "20"
      ]
     },
     "execution_count": 13,
     "metadata": {},
     "output_type": "execute_result"
    }
   ],
   "source": [
    "len(selected_columns)"
   ]
  },
  {
   "cell_type": "markdown",
   "metadata": {},
   "source": [
    "Let's extract a copy of the data from these columns into a new data frame `survey_df`, which we can continue to modify further without affecting the original data frame."
   ]
  },
  {
   "cell_type": "code",
   "execution_count": 14,
   "metadata": {},
   "outputs": [],
   "source": [
    "survey_df = survey_raw_df[selected_columns].copy()"
   ]
  },
  {
   "cell_type": "code",
   "execution_count": 15,
   "metadata": {},
   "outputs": [],
   "source": [
    "schema = schema_raw[selected_columns]"
   ]
  },
  {
   "cell_type": "markdown",
   "metadata": {},
   "source": [
    "Let's view some basic information about the data frame."
   ]
  },
  {
   "cell_type": "code",
   "execution_count": 16,
   "metadata": {},
   "outputs": [
    {
     "data": {
      "text/plain": [
       "(64461, 20)"
      ]
     },
     "execution_count": 16,
     "metadata": {},
     "output_type": "execute_result"
    }
   ],
   "source": [
    "survey_df.shape"
   ]
  },
  {
   "cell_type": "code",
   "execution_count": 17,
   "metadata": {},
   "outputs": [
    {
     "name": "stdout",
     "output_type": "stream",
     "text": [
      "<class 'pandas.core.frame.DataFrame'>\n",
      "RangeIndex: 64461 entries, 0 to 64460\n",
      "Data columns (total 20 columns):\n",
      " #   Column                  Non-Null Count  Dtype  \n",
      "---  ------                  --------------  -----  \n",
      " 0   Country                 64072 non-null  object \n",
      " 1   Age                     45446 non-null  float64\n",
      " 2   Gender                  50557 non-null  object \n",
      " 3   EdLevel                 57431 non-null  object \n",
      " 4   UndergradMajor          50995 non-null  object \n",
      " 5   Hobbyist                64416 non-null  object \n",
      " 6   Age1stCode              57900 non-null  object \n",
      " 7   YearsCode               57684 non-null  object \n",
      " 8   YearsCodePro            46349 non-null  object \n",
      " 9   LanguageWorkedWith      57378 non-null  object \n",
      " 10  LanguageDesireNextYear  54113 non-null  object \n",
      " 11  NEWLearn                56156 non-null  object \n",
      " 12  NEWStuck                54983 non-null  object \n",
      " 13  Employment              63854 non-null  object \n",
      " 14  DevType                 49370 non-null  object \n",
      " 15  WorkWeekHrs             41151 non-null  float64\n",
      " 16  JobSat                  45194 non-null  object \n",
      " 17  JobFactors              49349 non-null  object \n",
      " 18  NEWOvertime             43231 non-null  object \n",
      " 19  NEWEdImpt               48465 non-null  object \n",
      "dtypes: float64(2), object(18)\n",
      "memory usage: 9.8+ MB\n"
     ]
    }
   ],
   "source": [
    "survey_df.info()"
   ]
  },
  {
   "cell_type": "markdown",
   "metadata": {},
   "source": [
    "Most columns have the data type `object`, either because they contain values of different types, or they contain empty values, which are represented using `NaN`. It appears that every column contains some empty values, since the Non-Null count for every column is lower than the total number of rows (64461). We'll need to deal with empty values and manually adjust the data type for each column on a case-by-case basis. \n",
    "\n",
    "Only two of the columns were detected as numeric columns (`Age` and `WorkWeekHrs`), even though there are a few other columns which have mostly numeric values. To make our analysis easier, let's convert some other columns into numeric data types, while ignoring any non-numeric value (they will get converted to NaNs)"
   ]
  },
  {
   "cell_type": "code",
   "execution_count": 18,
   "metadata": {},
   "outputs": [],
   "source": [
    "survey_df['Age1stCode'] = pd.to_numeric(survey_df.Age1stCode, errors='coerce')\n",
    "survey_df['YearsCode'] = pd.to_numeric(survey_df.YearsCode, errors='coerce')\n",
    "survey_df['YearsCodePro'] = pd.to_numeric(survey_df.YearsCodePro, errors='coerce')"
   ]
  },
  {
   "cell_type": "markdown",
   "metadata": {},
   "source": [
    "Let's now view some basic statistics about the the numeric columns."
   ]
  },
  {
   "cell_type": "code",
   "execution_count": 19,
   "metadata": {},
   "outputs": [
    {
     "data": {
      "text/html": [
       "<div>\n",
       "<style scoped>\n",
       "    .dataframe tbody tr th:only-of-type {\n",
       "        vertical-align: middle;\n",
       "    }\n",
       "\n",
       "    .dataframe tbody tr th {\n",
       "        vertical-align: top;\n",
       "    }\n",
       "\n",
       "    .dataframe thead th {\n",
       "        text-align: right;\n",
       "    }\n",
       "</style>\n",
       "<table border=\"1\" class=\"dataframe\">\n",
       "  <thead>\n",
       "    <tr style=\"text-align: right;\">\n",
       "      <th></th>\n",
       "      <th>Age</th>\n",
       "      <th>Age1stCode</th>\n",
       "      <th>YearsCode</th>\n",
       "      <th>YearsCodePro</th>\n",
       "      <th>WorkWeekHrs</th>\n",
       "    </tr>\n",
       "  </thead>\n",
       "  <tbody>\n",
       "    <tr>\n",
       "      <th>count</th>\n",
       "      <td>45446.000000</td>\n",
       "      <td>57473.000000</td>\n",
       "      <td>56784.000000</td>\n",
       "      <td>44133.000000</td>\n",
       "      <td>41151.000000</td>\n",
       "    </tr>\n",
       "    <tr>\n",
       "      <th>mean</th>\n",
       "      <td>30.834111</td>\n",
       "      <td>15.476572</td>\n",
       "      <td>12.782051</td>\n",
       "      <td>8.869667</td>\n",
       "      <td>40.782174</td>\n",
       "    </tr>\n",
       "    <tr>\n",
       "      <th>std</th>\n",
       "      <td>9.585392</td>\n",
       "      <td>5.114081</td>\n",
       "      <td>9.490657</td>\n",
       "      <td>7.759961</td>\n",
       "      <td>17.816383</td>\n",
       "    </tr>\n",
       "    <tr>\n",
       "      <th>min</th>\n",
       "      <td>1.000000</td>\n",
       "      <td>5.000000</td>\n",
       "      <td>1.000000</td>\n",
       "      <td>1.000000</td>\n",
       "      <td>1.000000</td>\n",
       "    </tr>\n",
       "    <tr>\n",
       "      <th>25%</th>\n",
       "      <td>24.000000</td>\n",
       "      <td>12.000000</td>\n",
       "      <td>6.000000</td>\n",
       "      <td>3.000000</td>\n",
       "      <td>40.000000</td>\n",
       "    </tr>\n",
       "    <tr>\n",
       "      <th>50%</th>\n",
       "      <td>29.000000</td>\n",
       "      <td>15.000000</td>\n",
       "      <td>10.000000</td>\n",
       "      <td>6.000000</td>\n",
       "      <td>40.000000</td>\n",
       "    </tr>\n",
       "    <tr>\n",
       "      <th>75%</th>\n",
       "      <td>35.000000</td>\n",
       "      <td>18.000000</td>\n",
       "      <td>17.000000</td>\n",
       "      <td>12.000000</td>\n",
       "      <td>44.000000</td>\n",
       "    </tr>\n",
       "    <tr>\n",
       "      <th>max</th>\n",
       "      <td>279.000000</td>\n",
       "      <td>85.000000</td>\n",
       "      <td>50.000000</td>\n",
       "      <td>50.000000</td>\n",
       "      <td>475.000000</td>\n",
       "    </tr>\n",
       "  </tbody>\n",
       "</table>\n",
       "</div>"
      ],
      "text/plain": [
       "                Age    Age1stCode     YearsCode  YearsCodePro   WorkWeekHrs\n",
       "count  45446.000000  57473.000000  56784.000000  44133.000000  41151.000000\n",
       "mean      30.834111     15.476572     12.782051      8.869667     40.782174\n",
       "std        9.585392      5.114081      9.490657      7.759961     17.816383\n",
       "min        1.000000      5.000000      1.000000      1.000000      1.000000\n",
       "25%       24.000000     12.000000      6.000000      3.000000     40.000000\n",
       "50%       29.000000     15.000000     10.000000      6.000000     40.000000\n",
       "75%       35.000000     18.000000     17.000000     12.000000     44.000000\n",
       "max      279.000000     85.000000     50.000000     50.000000    475.000000"
      ]
     },
     "execution_count": 19,
     "metadata": {},
     "output_type": "execute_result"
    }
   ],
   "source": [
    "survey_df.describe()"
   ]
  },
  {
   "cell_type": "markdown",
   "metadata": {},
   "source": [
    "There seems to be a problem with the age column, as the minimum value is 1 and max value is 279. This is a common issues with surveys: responses may contain invalid values due to accidental or intentional errors while responding. A simple fix would be ignore the rows where the value in the age column is higher than 100 years or lower than 10 years as invalid survey responses. This can be done using the `.drop` method, [as explained here](https://www.geeksforgeeks.org/drop-rows-from-the-dataframe-based-on-certain-condition-applied-on-a-column/)."
   ]
  },
  {
   "cell_type": "code",
   "execution_count": 20,
   "metadata": {},
   "outputs": [],
   "source": [
    "survey_df.drop(survey_df[survey_df.Age < 10].index, inplace=True)\n",
    "survey_df.drop(survey_df[survey_df.Age > 100].index, inplace=True)"
   ]
  },
  {
   "cell_type": "markdown",
   "metadata": {},
   "source": [
    "The same hold true for `WorkWeekHrs`. Let's ignore entries where the value for the column is higher than 140 hours. (~20 hours per day)."
   ]
  },
  {
   "cell_type": "code",
   "execution_count": 21,
   "metadata": {},
   "outputs": [],
   "source": [
    "survey_df.drop(survey_df[survey_df.WorkWeekHrs > 140].index, inplace=True)"
   ]
  },
  {
   "cell_type": "markdown",
   "metadata": {},
   "source": [
    "The gender column also allows picking multiple options, but to simplify our analysis, we'll remove values containing more than option."
   ]
  },
  {
   "cell_type": "code",
   "execution_count": 22,
   "metadata": {},
   "outputs": [
    {
     "data": {
      "text/plain": [
       "Man                                                            45895\n",
       "Woman                                                           3835\n",
       "Non-binary, genderqueer, or gender non-conforming                385\n",
       "Man;Non-binary, genderqueer, or gender non-conforming            121\n",
       "Woman;Non-binary, genderqueer, or gender non-conforming           92\n",
       "Woman;Man                                                         73\n",
       "Woman;Man;Non-binary, genderqueer, or gender non-conforming       25\n",
       "Name: Gender, dtype: int64"
      ]
     },
     "execution_count": 22,
     "metadata": {},
     "output_type": "execute_result"
    }
   ],
   "source": [
    "survey_df['Gender'].value_counts()"
   ]
  },
  {
   "cell_type": "code",
   "execution_count": 23,
   "metadata": {},
   "outputs": [],
   "source": [
    "import numpy as np"
   ]
  },
  {
   "cell_type": "code",
   "execution_count": 24,
   "metadata": {},
   "outputs": [],
   "source": [
    "survey_df.where(~(survey_df.Gender.str.contains(';', na=False)), np.nan, inplace=True)"
   ]
  },
  {
   "cell_type": "markdown",
   "metadata": {},
   "source": [
    "We've now cleaned up and prepared the dataset for analysis. Let's take a look at sample of rows from the data frame."
   ]
  },
  {
   "cell_type": "code",
   "execution_count": 25,
   "metadata": {},
   "outputs": [
    {
     "data": {
      "text/html": [
       "<div>\n",
       "<style scoped>\n",
       "    .dataframe tbody tr th:only-of-type {\n",
       "        vertical-align: middle;\n",
       "    }\n",
       "\n",
       "    .dataframe tbody tr th {\n",
       "        vertical-align: top;\n",
       "    }\n",
       "\n",
       "    .dataframe thead th {\n",
       "        text-align: right;\n",
       "    }\n",
       "</style>\n",
       "<table border=\"1\" class=\"dataframe\">\n",
       "  <thead>\n",
       "    <tr style=\"text-align: right;\">\n",
       "      <th></th>\n",
       "      <th>Country</th>\n",
       "      <th>Age</th>\n",
       "      <th>Gender</th>\n",
       "      <th>EdLevel</th>\n",
       "      <th>UndergradMajor</th>\n",
       "      <th>Hobbyist</th>\n",
       "      <th>Age1stCode</th>\n",
       "      <th>YearsCode</th>\n",
       "      <th>YearsCodePro</th>\n",
       "      <th>LanguageWorkedWith</th>\n",
       "      <th>LanguageDesireNextYear</th>\n",
       "      <th>NEWLearn</th>\n",
       "      <th>NEWStuck</th>\n",
       "      <th>Employment</th>\n",
       "      <th>DevType</th>\n",
       "      <th>WorkWeekHrs</th>\n",
       "      <th>JobSat</th>\n",
       "      <th>JobFactors</th>\n",
       "      <th>NEWOvertime</th>\n",
       "      <th>NEWEdImpt</th>\n",
       "    </tr>\n",
       "  </thead>\n",
       "  <tbody>\n",
       "    <tr>\n",
       "      <th>53738</th>\n",
       "      <td>Bangladesh</td>\n",
       "      <td>24.0</td>\n",
       "      <td>Man</td>\n",
       "      <td>Bachelor’s degree (B.A., B.S., B.Eng., etc.)</td>\n",
       "      <td>Computer science, computer engineering, or sof...</td>\n",
       "      <td>Yes</td>\n",
       "      <td>20.0</td>\n",
       "      <td>4.0</td>\n",
       "      <td>1.0</td>\n",
       "      <td>Dart;HTML/CSS;Java;JavaScript;PHP;Python;SQL</td>\n",
       "      <td>NaN</td>\n",
       "      <td>Every few months</td>\n",
       "      <td>NaN</td>\n",
       "      <td>Employed full-time</td>\n",
       "      <td>Developer, back-end;Developer, full-stack</td>\n",
       "      <td>50.0</td>\n",
       "      <td>Very dissatisfied</td>\n",
       "      <td>Diversity of the company or organization</td>\n",
       "      <td>NaN</td>\n",
       "      <td>Somewhat important</td>\n",
       "    </tr>\n",
       "    <tr>\n",
       "      <th>57912</th>\n",
       "      <td>United States</td>\n",
       "      <td>53.0</td>\n",
       "      <td>Man</td>\n",
       "      <td>Master’s degree (M.A., M.S., M.Eng., MBA, etc.)</td>\n",
       "      <td>Another engineering discipline (such as civil,...</td>\n",
       "      <td>Yes</td>\n",
       "      <td>14.0</td>\n",
       "      <td>40.0</td>\n",
       "      <td>30.0</td>\n",
       "      <td>Assembly;Bash/Shell/PowerShell;C;C++;Python</td>\n",
       "      <td>Assembly;Bash/Shell/PowerShell;C;C++;Python;Rust</td>\n",
       "      <td>Every few months</td>\n",
       "      <td>Visit Stack Overflow;Do other work and come ba...</td>\n",
       "      <td>Independent contractor, freelancer, or self-em...</td>\n",
       "      <td>Developer, embedded applications or devices;Sc...</td>\n",
       "      <td>20.0</td>\n",
       "      <td>Neither satisfied nor dissatisfied</td>\n",
       "      <td>Industry that I’d be working in;Specific depar...</td>\n",
       "      <td>Rarely: 1-2 days per year or less</td>\n",
       "      <td>Critically important</td>\n",
       "    </tr>\n",
       "    <tr>\n",
       "      <th>48812</th>\n",
       "      <td>France</td>\n",
       "      <td>43.0</td>\n",
       "      <td>Man</td>\n",
       "      <td>Master’s degree (M.A., M.S., M.Eng., MBA, etc.)</td>\n",
       "      <td>Computer science, computer engineering, or sof...</td>\n",
       "      <td>Yes</td>\n",
       "      <td>12.0</td>\n",
       "      <td>29.0</td>\n",
       "      <td>20.0</td>\n",
       "      <td>C++;Perl;Python</td>\n",
       "      <td>C++;Perl;Python</td>\n",
       "      <td>Once every few years</td>\n",
       "      <td>Call a coworker or friend;Visit Stack Overflow...</td>\n",
       "      <td>Employed full-time</td>\n",
       "      <td>Developer, back-end</td>\n",
       "      <td>42.0</td>\n",
       "      <td>Very satisfied</td>\n",
       "      <td>Flex time or a flexible schedule;Remote work o...</td>\n",
       "      <td>Often: 1-2 days per week or more</td>\n",
       "      <td>Critically important</td>\n",
       "    </tr>\n",
       "    <tr>\n",
       "      <th>44764</th>\n",
       "      <td>India</td>\n",
       "      <td>NaN</td>\n",
       "      <td>NaN</td>\n",
       "      <td>NaN</td>\n",
       "      <td>NaN</td>\n",
       "      <td>Yes</td>\n",
       "      <td>NaN</td>\n",
       "      <td>NaN</td>\n",
       "      <td>NaN</td>\n",
       "      <td>NaN</td>\n",
       "      <td>NaN</td>\n",
       "      <td>NaN</td>\n",
       "      <td>NaN</td>\n",
       "      <td>Not employed, but looking for work</td>\n",
       "      <td>NaN</td>\n",
       "      <td>NaN</td>\n",
       "      <td>NaN</td>\n",
       "      <td>NaN</td>\n",
       "      <td>NaN</td>\n",
       "      <td>NaN</td>\n",
       "    </tr>\n",
       "    <tr>\n",
       "      <th>1264</th>\n",
       "      <td>Lithuania</td>\n",
       "      <td>NaN</td>\n",
       "      <td>Man</td>\n",
       "      <td>Master’s degree (M.A., M.S., M.Eng., MBA, etc.)</td>\n",
       "      <td>Computer science, computer engineering, or sof...</td>\n",
       "      <td>Yes</td>\n",
       "      <td>13.0</td>\n",
       "      <td>30.0</td>\n",
       "      <td>22.0</td>\n",
       "      <td>C#;HTML/CSS;JavaScript;SQL;TypeScript;VBA</td>\n",
       "      <td>Assembly;Bash/Shell/PowerShell;C;C#;C++;Dart;G...</td>\n",
       "      <td>Once every few years</td>\n",
       "      <td>Visit Stack Overflow;Watch help / tutorial vid...</td>\n",
       "      <td>Independent contractor, freelancer, or self-em...</td>\n",
       "      <td>Database administrator;Developer, back-end;Dev...</td>\n",
       "      <td>NaN</td>\n",
       "      <td>Neither satisfied nor dissatisfied</td>\n",
       "      <td>Remote work options;Financial performance or f...</td>\n",
       "      <td>Sometimes: 1-2 days per month but less than we...</td>\n",
       "      <td>Fairly important</td>\n",
       "    </tr>\n",
       "    <tr>\n",
       "      <th>41586</th>\n",
       "      <td>Portugal</td>\n",
       "      <td>NaN</td>\n",
       "      <td>NaN</td>\n",
       "      <td>Some college/university study without earning ...</td>\n",
       "      <td>Computer science, computer engineering, or sof...</td>\n",
       "      <td>No</td>\n",
       "      <td>16.0</td>\n",
       "      <td>8.0</td>\n",
       "      <td>NaN</td>\n",
       "      <td>NaN</td>\n",
       "      <td>NaN</td>\n",
       "      <td>Once every few years</td>\n",
       "      <td>NaN</td>\n",
       "      <td>Student</td>\n",
       "      <td>NaN</td>\n",
       "      <td>NaN</td>\n",
       "      <td>NaN</td>\n",
       "      <td>NaN</td>\n",
       "      <td>NaN</td>\n",
       "      <td>NaN</td>\n",
       "    </tr>\n",
       "    <tr>\n",
       "      <th>1462</th>\n",
       "      <td>Germany</td>\n",
       "      <td>32.0</td>\n",
       "      <td>Woman</td>\n",
       "      <td>Bachelor’s degree (B.A., B.S., B.Eng., etc.)</td>\n",
       "      <td>Computer science, computer engineering, or sof...</td>\n",
       "      <td>Yes</td>\n",
       "      <td>17.0</td>\n",
       "      <td>9.0</td>\n",
       "      <td>7.0</td>\n",
       "      <td>HTML/CSS;Java;JavaScript;SQL</td>\n",
       "      <td>Java;SQL;TypeScript</td>\n",
       "      <td>Once a year</td>\n",
       "      <td>Call a coworker or friend;Visit Stack Overflow</td>\n",
       "      <td>Employed full-time</td>\n",
       "      <td>Developer, full-stack</td>\n",
       "      <td>40.0</td>\n",
       "      <td>Neither satisfied nor dissatisfied</td>\n",
       "      <td>NaN</td>\n",
       "      <td>Rarely: 1-2 days per year or less</td>\n",
       "      <td>Somewhat important</td>\n",
       "    </tr>\n",
       "    <tr>\n",
       "      <th>41635</th>\n",
       "      <td>Brazil</td>\n",
       "      <td>38.0</td>\n",
       "      <td>Man</td>\n",
       "      <td>Master’s degree (M.A., M.S., M.Eng., MBA, etc.)</td>\n",
       "      <td>Computer science, computer engineering, or sof...</td>\n",
       "      <td>Yes</td>\n",
       "      <td>11.0</td>\n",
       "      <td>25.0</td>\n",
       "      <td>19.0</td>\n",
       "      <td>C#;HTML/CSS;JavaScript;PHP;SQL</td>\n",
       "      <td>C#;HTML/CSS;JavaScript;Python;TypeScript</td>\n",
       "      <td>Once a year</td>\n",
       "      <td>Call a coworker or friend;Visit Stack Overflow...</td>\n",
       "      <td>Employed full-time</td>\n",
       "      <td>Developer, back-end;Developer, front-end;Devel...</td>\n",
       "      <td>40.0</td>\n",
       "      <td>Slightly satisfied</td>\n",
       "      <td>How widely used or impactful my work output wo...</td>\n",
       "      <td>Often: 1-2 days per week or more</td>\n",
       "      <td>Fairly important</td>\n",
       "    </tr>\n",
       "    <tr>\n",
       "      <th>22934</th>\n",
       "      <td>Nigeria</td>\n",
       "      <td>26.0</td>\n",
       "      <td>Man</td>\n",
       "      <td>Bachelor’s degree (B.A., B.S., B.Eng., etc.)</td>\n",
       "      <td>Computer science, computer engineering, or sof...</td>\n",
       "      <td>Yes</td>\n",
       "      <td>17.0</td>\n",
       "      <td>9.0</td>\n",
       "      <td>3.0</td>\n",
       "      <td>HTML/CSS;Java;JavaScript;PHP;Python;SQL</td>\n",
       "      <td>Python;SQL;TypeScript</td>\n",
       "      <td>Every few months</td>\n",
       "      <td>Meditate;Visit Stack Overflow;Go for a walk or...</td>\n",
       "      <td>Employed full-time</td>\n",
       "      <td>Developer, back-end;Developer, full-stack;DevO...</td>\n",
       "      <td>40.0</td>\n",
       "      <td>Slightly satisfied</td>\n",
       "      <td>Languages, frameworks, and other technologies ...</td>\n",
       "      <td>Occasionally: 1-2 days per quarter but less th...</td>\n",
       "      <td>Somewhat important</td>\n",
       "    </tr>\n",
       "    <tr>\n",
       "      <th>58216</th>\n",
       "      <td>United Kingdom</td>\n",
       "      <td>28.0</td>\n",
       "      <td>Man</td>\n",
       "      <td>Master’s degree (M.A., M.S., M.Eng., MBA, etc.)</td>\n",
       "      <td>A natural science (such as biology, chemistry,...</td>\n",
       "      <td>Yes</td>\n",
       "      <td>14.0</td>\n",
       "      <td>4.0</td>\n",
       "      <td>3.0</td>\n",
       "      <td>HTML/CSS;JavaScript;PHP;TypeScript</td>\n",
       "      <td>Go;JavaScript</td>\n",
       "      <td>Once a year</td>\n",
       "      <td>Call a coworker or friend;Visit Stack Overflow...</td>\n",
       "      <td>Employed full-time</td>\n",
       "      <td>Developer, back-end;Developer, full-stack</td>\n",
       "      <td>35.0</td>\n",
       "      <td>Slightly satisfied</td>\n",
       "      <td>Languages, frameworks, and other technologies ...</td>\n",
       "      <td>Never</td>\n",
       "      <td>Fairly important</td>\n",
       "    </tr>\n",
       "  </tbody>\n",
       "</table>\n",
       "</div>"
      ],
      "text/plain": [
       "              Country   Age Gender  \\\n",
       "53738      Bangladesh  24.0    Man   \n",
       "57912   United States  53.0    Man   \n",
       "48812          France  43.0    Man   \n",
       "44764           India   NaN    NaN   \n",
       "1264        Lithuania   NaN    Man   \n",
       "41586        Portugal   NaN    NaN   \n",
       "1462          Germany  32.0  Woman   \n",
       "41635          Brazil  38.0    Man   \n",
       "22934         Nigeria  26.0    Man   \n",
       "58216  United Kingdom  28.0    Man   \n",
       "\n",
       "                                                 EdLevel  \\\n",
       "53738       Bachelor’s degree (B.A., B.S., B.Eng., etc.)   \n",
       "57912    Master’s degree (M.A., M.S., M.Eng., MBA, etc.)   \n",
       "48812    Master’s degree (M.A., M.S., M.Eng., MBA, etc.)   \n",
       "44764                                                NaN   \n",
       "1264     Master’s degree (M.A., M.S., M.Eng., MBA, etc.)   \n",
       "41586  Some college/university study without earning ...   \n",
       "1462        Bachelor’s degree (B.A., B.S., B.Eng., etc.)   \n",
       "41635    Master’s degree (M.A., M.S., M.Eng., MBA, etc.)   \n",
       "22934       Bachelor’s degree (B.A., B.S., B.Eng., etc.)   \n",
       "58216    Master’s degree (M.A., M.S., M.Eng., MBA, etc.)   \n",
       "\n",
       "                                          UndergradMajor Hobbyist  Age1stCode  \\\n",
       "53738  Computer science, computer engineering, or sof...      Yes        20.0   \n",
       "57912  Another engineering discipline (such as civil,...      Yes        14.0   \n",
       "48812  Computer science, computer engineering, or sof...      Yes        12.0   \n",
       "44764                                                NaN      Yes         NaN   \n",
       "1264   Computer science, computer engineering, or sof...      Yes        13.0   \n",
       "41586  Computer science, computer engineering, or sof...       No        16.0   \n",
       "1462   Computer science, computer engineering, or sof...      Yes        17.0   \n",
       "41635  Computer science, computer engineering, or sof...      Yes        11.0   \n",
       "22934  Computer science, computer engineering, or sof...      Yes        17.0   \n",
       "58216  A natural science (such as biology, chemistry,...      Yes        14.0   \n",
       "\n",
       "       YearsCode  YearsCodePro                            LanguageWorkedWith  \\\n",
       "53738        4.0           1.0  Dart;HTML/CSS;Java;JavaScript;PHP;Python;SQL   \n",
       "57912       40.0          30.0   Assembly;Bash/Shell/PowerShell;C;C++;Python   \n",
       "48812       29.0          20.0                               C++;Perl;Python   \n",
       "44764        NaN           NaN                                           NaN   \n",
       "1264        30.0          22.0     C#;HTML/CSS;JavaScript;SQL;TypeScript;VBA   \n",
       "41586        8.0           NaN                                           NaN   \n",
       "1462         9.0           7.0                  HTML/CSS;Java;JavaScript;SQL   \n",
       "41635       25.0          19.0                C#;HTML/CSS;JavaScript;PHP;SQL   \n",
       "22934        9.0           3.0       HTML/CSS;Java;JavaScript;PHP;Python;SQL   \n",
       "58216        4.0           3.0            HTML/CSS;JavaScript;PHP;TypeScript   \n",
       "\n",
       "                                  LanguageDesireNextYear  \\\n",
       "53738                                                NaN   \n",
       "57912   Assembly;Bash/Shell/PowerShell;C;C++;Python;Rust   \n",
       "48812                                    C++;Perl;Python   \n",
       "44764                                                NaN   \n",
       "1264   Assembly;Bash/Shell/PowerShell;C;C#;C++;Dart;G...   \n",
       "41586                                                NaN   \n",
       "1462                                 Java;SQL;TypeScript   \n",
       "41635           C#;HTML/CSS;JavaScript;Python;TypeScript   \n",
       "22934                              Python;SQL;TypeScript   \n",
       "58216                                      Go;JavaScript   \n",
       "\n",
       "                   NEWLearn  \\\n",
       "53738      Every few months   \n",
       "57912      Every few months   \n",
       "48812  Once every few years   \n",
       "44764                   NaN   \n",
       "1264   Once every few years   \n",
       "41586  Once every few years   \n",
       "1462            Once a year   \n",
       "41635           Once a year   \n",
       "22934      Every few months   \n",
       "58216           Once a year   \n",
       "\n",
       "                                                NEWStuck  \\\n",
       "53738                                                NaN   \n",
       "57912  Visit Stack Overflow;Do other work and come ba...   \n",
       "48812  Call a coworker or friend;Visit Stack Overflow...   \n",
       "44764                                                NaN   \n",
       "1264   Visit Stack Overflow;Watch help / tutorial vid...   \n",
       "41586                                                NaN   \n",
       "1462      Call a coworker or friend;Visit Stack Overflow   \n",
       "41635  Call a coworker or friend;Visit Stack Overflow...   \n",
       "22934  Meditate;Visit Stack Overflow;Go for a walk or...   \n",
       "58216  Call a coworker or friend;Visit Stack Overflow...   \n",
       "\n",
       "                                              Employment  \\\n",
       "53738                                 Employed full-time   \n",
       "57912  Independent contractor, freelancer, or self-em...   \n",
       "48812                                 Employed full-time   \n",
       "44764                 Not employed, but looking for work   \n",
       "1264   Independent contractor, freelancer, or self-em...   \n",
       "41586                                            Student   \n",
       "1462                                  Employed full-time   \n",
       "41635                                 Employed full-time   \n",
       "22934                                 Employed full-time   \n",
       "58216                                 Employed full-time   \n",
       "\n",
       "                                                 DevType  WorkWeekHrs  \\\n",
       "53738          Developer, back-end;Developer, full-stack         50.0   \n",
       "57912  Developer, embedded applications or devices;Sc...         20.0   \n",
       "48812                                Developer, back-end         42.0   \n",
       "44764                                                NaN          NaN   \n",
       "1264   Database administrator;Developer, back-end;Dev...          NaN   \n",
       "41586                                                NaN          NaN   \n",
       "1462                               Developer, full-stack         40.0   \n",
       "41635  Developer, back-end;Developer, front-end;Devel...         40.0   \n",
       "22934  Developer, back-end;Developer, full-stack;DevO...         40.0   \n",
       "58216          Developer, back-end;Developer, full-stack         35.0   \n",
       "\n",
       "                                   JobSat  \\\n",
       "53738                   Very dissatisfied   \n",
       "57912  Neither satisfied nor dissatisfied   \n",
       "48812                      Very satisfied   \n",
       "44764                                 NaN   \n",
       "1264   Neither satisfied nor dissatisfied   \n",
       "41586                                 NaN   \n",
       "1462   Neither satisfied nor dissatisfied   \n",
       "41635                  Slightly satisfied   \n",
       "22934                  Slightly satisfied   \n",
       "58216                  Slightly satisfied   \n",
       "\n",
       "                                              JobFactors  \\\n",
       "53738           Diversity of the company or organization   \n",
       "57912  Industry that I’d be working in;Specific depar...   \n",
       "48812  Flex time or a flexible schedule;Remote work o...   \n",
       "44764                                                NaN   \n",
       "1264   Remote work options;Financial performance or f...   \n",
       "41586                                                NaN   \n",
       "1462                                                 NaN   \n",
       "41635  How widely used or impactful my work output wo...   \n",
       "22934  Languages, frameworks, and other technologies ...   \n",
       "58216  Languages, frameworks, and other technologies ...   \n",
       "\n",
       "                                             NEWOvertime             NEWEdImpt  \n",
       "53738                                                NaN    Somewhat important  \n",
       "57912                  Rarely: 1-2 days per year or less  Critically important  \n",
       "48812                   Often: 1-2 days per week or more  Critically important  \n",
       "44764                                                NaN                   NaN  \n",
       "1264   Sometimes: 1-2 days per month but less than we...      Fairly important  \n",
       "41586                                                NaN                   NaN  \n",
       "1462                   Rarely: 1-2 days per year or less    Somewhat important  \n",
       "41635                   Often: 1-2 days per week or more      Fairly important  \n",
       "22934  Occasionally: 1-2 days per quarter but less th...    Somewhat important  \n",
       "58216                                              Never      Fairly important  "
      ]
     },
     "execution_count": 25,
     "metadata": {},
     "output_type": "execute_result"
    }
   ],
   "source": [
    "survey_df.sample(10)"
   ]
  },
  {
   "cell_type": "markdown",
   "metadata": {},
   "source": [
    "Let's save and commit our work before continuing."
   ]
  },
  {
   "cell_type": "markdown",
   "metadata": {},
   "source": [
    "## Exploratory Analysis and Visualization\n",
    "\n",
    "Before we can ask interesting questions about the survey responses, it would help to understand what the demographics i.e. country, age, gender, education level, employment level etc. of the respondents look like. It's important to explore these variable in order to understand how representative the survey is of the worldwide programming community, as a survey of this scale generally tends to have some [selection bias](https://en.wikipedia.org/wiki/Selection_bias).\n",
    "\n",
    "Let's begin by importing `matplotlib.pyplot` and `seaborn`."
   ]
  },
  {
   "cell_type": "code",
   "execution_count": 26,
   "metadata": {},
   "outputs": [],
   "source": [
    "import seaborn as sns\n",
    "import matplotlib\n",
    "import matplotlib.pyplot as plt\n",
    "%matplotlib inline\n",
    "\n",
    "sns.set_style('darkgrid')\n",
    "matplotlib.rcParams['font.size'] = 14\n",
    "matplotlib.rcParams['figure.figsize'] = (9, 5)\n",
    "matplotlib.rcParams['figure.facecolor'] = '#00000000'"
   ]
  },
  {
   "cell_type": "markdown",
   "metadata": {},
   "source": [
    "### Country\n",
    "\n",
    "Let's look at the number of countries from which there are responses in the survey, and plot the 10 countries with the highest number of responses."
   ]
  },
  {
   "cell_type": "code",
   "execution_count": 27,
   "metadata": {},
   "outputs": [
    {
     "data": {
      "text/plain": [
       "'Where do you live?'"
      ]
     },
     "execution_count": 27,
     "metadata": {},
     "output_type": "execute_result"
    }
   ],
   "source": [
    "schema.Country"
   ]
  },
  {
   "cell_type": "code",
   "execution_count": 28,
   "metadata": {},
   "outputs": [
    {
     "data": {
      "text/plain": [
       "183"
      ]
     },
     "execution_count": 28,
     "metadata": {},
     "output_type": "execute_result"
    }
   ],
   "source": [
    "survey_df.Country.nunique()"
   ]
  },
  {
   "cell_type": "markdown",
   "metadata": {},
   "source": [
    "We can identify the countries with the highest number of respondents using the `value_counts` method."
   ]
  },
  {
   "cell_type": "code",
   "execution_count": 29,
   "metadata": {},
   "outputs": [
    {
     "data": {
      "text/plain": [
       "United States         12371\n",
       "India                  8364\n",
       "United Kingdom         3881\n",
       "Germany                3864\n",
       "Canada                 2175\n",
       "France                 1884\n",
       "Brazil                 1804\n",
       "Netherlands            1332\n",
       "Poland                 1259\n",
       "Australia              1199\n",
       "Spain                  1157\n",
       "Italy                  1115\n",
       "Russian Federation     1085\n",
       "Sweden                  879\n",
       "Pakistan                802\n",
       "Name: Country, dtype: int64"
      ]
     },
     "execution_count": 29,
     "metadata": {},
     "output_type": "execute_result"
    }
   ],
   "source": [
    "top_countries = survey_df.Country.value_counts().head(15)\n",
    "top_countries"
   ]
  },
  {
   "cell_type": "markdown",
   "metadata": {},
   "source": [
    "We can visualize this information using a bar chart."
   ]
  },
  {
   "cell_type": "code",
   "execution_count": 30,
   "metadata": {},
   "outputs": [
    {
     "data": {
      "image/png": "[encoded data removed]",
      "text/plain": [
       "<Figure size 864x432 with 1 Axes>"
      ]
     },
     "metadata": {
      "needs_background": "light"
     },
     "output_type": "display_data"
    }
   ],
   "source": [
    "plt.figure(figsize=(12,6))\n",
    "plt.xticks(rotation=75)\n",
    "plt.title(schema.Country)\n",
    "sns.barplot(top_countries.index, top_countries);"
   ]
  },
  {
   "cell_type": "markdown",
   "metadata": {},
   "source": [
    "It appears the that a disproportionately high number of respondents are from USA & India - which one might expect since these countries have the highest populations (apart from China), and since the Survey is in English, which is the common language used by professionals in US, India & UK. We can already see that the survey may not be representative of the entire programming community - especially from non-English speaking countries.\n",
    "\n",
    "**Exercise**:\n",
    "Try finding the percentage of responses from English-speaking vs. non-English speaking countries. You can use [this list of languages spoken in different countries](https://github.com/JovianML/opendatasets/blob/master/data/countries-languages-spoken/countries-languages.csv)."
   ]
  },
  {
   "cell_type": "markdown",
   "metadata": {},
   "source": [
    "### Age\n",
    "\n",
    "The distribution of the age of respondents is another important factor to look at, and we can use a histogram to visualize it. "
   ]
  },
  {
   "cell_type": "code",
   "execution_count": 31,
   "metadata": {},
   "outputs": [
    {
     "data": {
      "image/png": "[encoded data removed]",
      "text/plain": [
       "<Figure size 864x432 with 1 Axes>"
      ]
     },
     "metadata": {
      "needs_background": "light"
     },
     "output_type": "display_data"
    }
   ],
   "source": [
    "plt.figure(figsize=(12, 6))\n",
    "plt.title(schema.Age)\n",
    "plt.xlabel('Age')\n",
    "plt.ylabel('Number of respondents')\n",
    "\n",
    "plt.hist(survey_df.Age, bins=np.arange(10,80,5), color='purple');"
   ]
  },
  {
   "cell_type": "markdown",
   "metadata": {},
   "source": [
    "It appears that a large percentage of respondents are in the age range of 20-45, which is somewhat representative of the programming community in general, as a lot of young people have taken up computer as their field of study or profession in the last 20 years.\n",
    "\n",
    "**Exercise**: You may want to filter out responses by age (or age group), if you'd like to analyze and compare the results of the survey for different age groups. Create a new column called `AgeGroup` which contains values like `Less than 10 years`, `10-18 years`, `18-30 years`, `30-45 years`, `45-60 years`, `Older than 60 years`, and repeat the analysis in the rest of this notebook for each age group."
   ]
  },
  {
   "cell_type": "markdown",
   "metadata": {},
   "source": [
    "### Gender\n",
    "\n",
    "Let's look at the distribution of responses for the Gender. It's a well known fact that women and non-binary genders are underrepresented in the programming community, so we might expect to see a skewed distribution here."
   ]
  },
  {
   "cell_type": "code",
   "execution_count": 32,
   "metadata": {},
   "outputs": [
    {
     "data": {
      "text/plain": [
       "'Which of the following describe you, if any? Please check all that apply. If you prefer not to answer, you may leave this question blank.'"
      ]
     },
     "execution_count": 32,
     "metadata": {},
     "output_type": "execute_result"
    }
   ],
   "source": [
    "schema.Gender"
   ]
  },
  {
   "cell_type": "code",
   "execution_count": 33,
   "metadata": {},
   "outputs": [
    {
     "data": {
      "text/plain": [
       "Man                                                  45895\n",
       "Woman                                                 3835\n",
       "Non-binary, genderqueer, or gender non-conforming      385\n",
       "Name: Gender, dtype: int64"
      ]
     },
     "execution_count": 33,
     "metadata": {},
     "output_type": "execute_result"
    }
   ],
   "source": [
    "gender_counts = survey_df.Gender.value_counts()\n",
    "gender_counts"
   ]
  },
  {
   "cell_type": "markdown",
   "metadata": {},
   "source": [
    "A pie chart would be a good way to visualize the distribution."
   ]
  },
  {
   "cell_type": "code",
   "execution_count": 34,
   "metadata": {},
   "outputs": [
    {
     "data": {
      "image/png": "[encoded data removed]",
      "text/plain": [
       "<Figure size 864x432 with 1 Axes>"
      ]
     },
     "metadata": {},
     "output_type": "display_data"
    }
   ],
   "source": [
    "plt.figure(figsize=(12,6))\n",
    "plt.title(schema.Gender)\n",
    "plt.pie(gender_counts, labels=gender_counts.index, autopct='%1.1f%%', startangle=180);"
   ]
  },
  {
   "cell_type": "markdown",
   "metadata": {},
   "source": [
    "Only about 8% of survey respondents who have answered the question identify as women or non-binary. This number is lower than the overall percentage of women & non-binary genders in the programming community - which is estimated to be around 12%. \n",
    "\n",
    "**Exercise**: It would be interesting to compare the survey responses & preferences across genders, and you are encouraged to repeat this analysis with these breakdowns. How do the relative education levels differ across genders? How to salaries differ? You may find this analysis on the [Gender Divide in Data Science](https://medium.com/datadriveninvestor/exploratory-data-analysis-eda-understanding-the-gender-divide-in-data-science-roles-9faa5da44f5b) useful."
   ]
  },
  {
   "cell_type": "markdown",
   "metadata": {},
   "source": [
    "### Education Level\n",
    "\n",
    "Formal education in computer science is often considered an important requirement of becoming a programmer. Let's see if this indeed the case, especially since there are many free resources & tutorials available online to learn programming. We'll use a horizontal bar plot to compare education levels of respondents."
   ]
  },
  {
   "cell_type": "code",
   "execution_count": 35,
   "metadata": {},
   "outputs": [
    {
     "data": {
      "image/png": "[encoded data removed]",
      "text/plain": [
       "<Figure size 648x360 with 1 Axes>"
      ]
     },
     "metadata": {
      "needs_background": "light"
     },
     "output_type": "display_data"
    }
   ],
   "source": [
    "sns.countplot(y=survey_df.EdLevel)\n",
    "plt.xticks(rotation=75);\n",
    "plt.title(schema['EdLevel'])\n",
    "plt.ylabel(None);"
   ]
  },
  {
   "cell_type": "markdown",
   "metadata": {},
   "source": [
    "It appears that well over half of the respondents hold a bachelor's or master's degree, so most programmers definitely seem to have some college education, although it's not clear from this graph alone if they hold a degree in computer science.\n",
    "\n",
    "**Exercises**: The graph currently shows the number of respondents for each option, can you modify it to show the percentage instead? Further, can you break down the graph to compare the percentages for each degree for men vs. women. "
   ]
  },
  {
   "cell_type": "markdown",
   "metadata": {},
   "source": [
    "Let's also plot undergraduate majors, but this time we'll convert the numbers into percentages, and sort by percentage values to make it easier to visualize the order."
   ]
  },
  {
   "cell_type": "code",
   "execution_count": 36,
   "metadata": {},
   "outputs": [
    {
     "data": {
      "text/plain": [
       "'What was your primary field of study?'"
      ]
     },
     "execution_count": 36,
     "metadata": {},
     "output_type": "execute_result"
    }
   ],
   "source": [
    "schema.UndergradMajor"
   ]
  },
  {
   "cell_type": "code",
   "execution_count": 37,
   "metadata": {},
   "outputs": [
    {
     "data": {
      "image/png": "[encoded data removed]",
      "text/plain": [
       "<Figure size 648x360 with 1 Axes>"
      ]
     },
     "metadata": {
      "needs_background": "light"
     },
     "output_type": "display_data"
    }
   ],
   "source": [
    "undergrad_pct = survey_df.UndergradMajor.value_counts() * 100 / survey_df.UndergradMajor.count()\n",
    "\n",
    "sns.barplot(undergrad_pct, undergrad_pct.index)\n",
    "\n",
    "plt.title(schema.UndergradMajor)\n",
    "plt.ylabel(None);\n",
    "plt.xlabel('Percentage');"
   ]
  },
  {
   "cell_type": "markdown",
   "metadata": {},
   "source": [
    "It turns that 40% of programmers holding a college degree have a field of study other than computer science - which is very encouraging. This seems to suggest that while college education is helpful in general, you do not need to pursue a major in computer science to become a successful programmer.\n",
    "\n",
    "**Exercises**: Analyze the results of the `NEWEdImpt` column for respondents who hold some college degree vs. those who don't. Do you notice any difference in opinion?"
   ]
  },
  {
   "cell_type": "markdown",
   "metadata": {},
   "source": [
    "### Employment\n",
    "\n",
    "Freelancing or contract work is a common choice among programmer, so it would be interesting to compare the breakdown between full time, part time & freelance work. Let's visualize the data from `Employment` column."
   ]
  },
  {
   "cell_type": "code",
   "execution_count": 38,
   "metadata": {},
   "outputs": [
    {
     "data": {
      "text/plain": [
       "'Which of the following best describes your current employment status?'"
      ]
     },
     "execution_count": 38,
     "metadata": {},
     "output_type": "execute_result"
    }
   ],
   "source": [
    "schema.Employment"
   ]
  },
  {
   "cell_type": "code",
   "execution_count": 39,
   "metadata": {},
   "outputs": [
    {
     "data": {
      "image/png": "[encoded data removed]",
      "text/plain": [
       "<Figure size 648x360 with 1 Axes>"
      ]
     },
     "metadata": {
      "needs_background": "light"
     },
     "output_type": "display_data"
    }
   ],
   "source": [
    "(survey_df.Employment.value_counts(normalize=True, ascending=True)*100).plot(kind='barh', color='g')\n",
    "plt.title(schema.Employment)\n",
    "plt.xlabel('Percentage');"
   ]
  },
  {
   "cell_type": "markdown",
   "metadata": {},
   "source": [
    "It appears that close to 10% of respondents are employed part time or as freelancers.\n",
    "\n",
    "**Exercise**: Add a new column `EmploymentType` which contains values `Enthusiast` (student or not employed but looking for work), `Professional` (employed full-time, part-time or freelancing) and `Other` (not employed or retired). For each of the graphs that follow, show a comparison between `Enthusiast` and `Professional`.\n"
   ]
  },
  {
   "cell_type": "markdown",
   "metadata": {},
   "source": [
    "The `DevType` field contains information about the roles held by respondents. Since the question allows multiple answers, the column contains lists of values separated by `;`, which makes it a bit harder to analyze directly."
   ]
  },
  {
   "cell_type": "code",
   "execution_count": 40,
   "metadata": {},
   "outputs": [
    {
     "data": {
      "text/plain": [
       "'Which of the following describe you? Please select all that apply.'"
      ]
     },
     "execution_count": 40,
     "metadata": {},
     "output_type": "execute_result"
    }
   ],
   "source": [
    "schema.DevType"
   ]
  },
  {
   "cell_type": "code",
   "execution_count": 41,
   "metadata": {},
   "outputs": [
    {
     "data": {
      "text/plain": [
       "Developer, full-stack                                                                                                                                                                                                      4396\n",
       "Developer, back-end                                                                                                                                                                                                        3056\n",
       "Developer, back-end;Developer, front-end;Developer, full-stack                                                                                                                                                             2214\n",
       "Developer, back-end;Developer, full-stack                                                                                                                                                                                  1465\n",
       "Developer, front-end                                                                                                                                                                                                       1390\n",
       "                                                                                                                                                                                                                           ... \n",
       "Developer, back-end;Developer, desktop or enterprise applications;Developer, embedded applications or devices;Developer, front-end;Developer, QA or test;DevOps specialist                                                    1\n",
       "Academic researcher;Data or business analyst;Educator;Engineer, data;Scientist                                                                                                                                                1\n",
       "Designer;Developer, back-end;Developer, embedded applications or devices;Developer, mobile;Educator                                                                                                                           1\n",
       "Designer;Developer, back-end;Developer, embedded applications or devices;System administrator                                                                                                                                 1\n",
       "Developer, back-end;Developer, desktop or enterprise applications;Developer, embedded applications or devices;Developer, front-end;Developer, full-stack;Engineer, site reliability;Engineering manager;Product manager       1\n",
       "Name: DevType, Length: 8213, dtype: int64"
      ]
     },
     "execution_count": 41,
     "metadata": {},
     "output_type": "execute_result"
    }
   ],
   "source": [
    "survey_df.DevType.value_counts()"
   ]
  },
  {
   "cell_type": "markdown",
   "metadata": {},
   "source": [
    "Let's define a helper function which turns a column containing lists of values (like `survey_df.DevType`) into a data frame with one column for each possible option."
   ]
  },
  {
   "cell_type": "code",
   "execution_count": 42,
   "metadata": {},
   "outputs": [],
   "source": [
    "def split_multicolumn(col_series):\n",
    "    result_df = col_series.to_frame()\n",
    "    options = []\n",
    "    # Iterate over the column\n",
    "    for idx, value  in col_series[col_series.notnull()].iteritems():\n",
    "        # Break each value into list of options\n",
    "        for option in value.split(';'):\n",
    "            # Add the option as a column to result\n",
    "            if not option in result_df.columns:\n",
    "                options.append(option)\n",
    "                result_df[option] = False\n",
    "            # Mark the value in the option column as True\n",
    "            result_df.at[idx, option] = True\n",
    "    return result_df[options]"
   ]
  },
  {
   "cell_type": "code",
   "execution_count": 43,
   "metadata": {},
   "outputs": [],
   "source": [
    "dev_type_df = split_multicolumn(survey_df.DevType)"
   ]
  },
  {
   "cell_type": "code",
   "execution_count": 44,
   "metadata": {},
   "outputs": [
    {
     "data": {
      "text/html": [
       "<div>\n",
       "<style scoped>\n",
       "    .dataframe tbody tr th:only-of-type {\n",
       "        vertical-align: middle;\n",
       "    }\n",
       "\n",
       "    .dataframe tbody tr th {\n",
       "        vertical-align: top;\n",
       "    }\n",
       "\n",
       "    .dataframe thead th {\n",
       "        text-align: right;\n",
       "    }\n",
       "</style>\n",
       "<table border=\"1\" class=\"dataframe\">\n",
       "  <thead>\n",
       "    <tr style=\"text-align: right;\">\n",
       "      <th></th>\n",
       "      <th>Developer, desktop or enterprise applications</th>\n",
       "      <th>Developer, full-stack</th>\n",
       "      <th>Developer, mobile</th>\n",
       "      <th>Designer</th>\n",
       "      <th>Developer, front-end</th>\n",
       "      <th>Developer, back-end</th>\n",
       "      <th>Developer, QA or test</th>\n",
       "      <th>DevOps specialist</th>\n",
       "      <th>Developer, game or graphics</th>\n",
       "      <th>Database administrator</th>\n",
       "      <th>...</th>\n",
       "      <th>System administrator</th>\n",
       "      <th>Engineering manager</th>\n",
       "      <th>Product manager</th>\n",
       "      <th>Data or business analyst</th>\n",
       "      <th>Academic researcher</th>\n",
       "      <th>Data scientist or machine learning specialist</th>\n",
       "      <th>Scientist</th>\n",
       "      <th>Senior executive/VP</th>\n",
       "      <th>Engineer, site reliability</th>\n",
       "      <th>Marketing or sales professional</th>\n",
       "    </tr>\n",
       "  </thead>\n",
       "  <tbody>\n",
       "    <tr>\n",
       "      <th>0</th>\n",
       "      <td>True</td>\n",
       "      <td>True</td>\n",
       "      <td>False</td>\n",
       "      <td>False</td>\n",
       "      <td>False</td>\n",
       "      <td>False</td>\n",
       "      <td>False</td>\n",
       "      <td>False</td>\n",
       "      <td>False</td>\n",
       "      <td>False</td>\n",
       "      <td>...</td>\n",
       "      <td>False</td>\n",
       "      <td>False</td>\n",
       "      <td>False</td>\n",
       "      <td>False</td>\n",
       "      <td>False</td>\n",
       "      <td>False</td>\n",
       "      <td>False</td>\n",
       "      <td>False</td>\n",
       "      <td>False</td>\n",
       "      <td>False</td>\n",
       "    </tr>\n",
       "    <tr>\n",
       "      <th>1</th>\n",
       "      <td>False</td>\n",
       "      <td>True</td>\n",
       "      <td>True</td>\n",
       "      <td>False</td>\n",
       "      <td>False</td>\n",
       "      <td>False</td>\n",
       "      <td>False</td>\n",
       "      <td>False</td>\n",
       "      <td>False</td>\n",
       "      <td>False</td>\n",
       "      <td>...</td>\n",
       "      <td>False</td>\n",
       "      <td>False</td>\n",
       "      <td>False</td>\n",
       "      <td>False</td>\n",
       "      <td>False</td>\n",
       "      <td>False</td>\n",
       "      <td>False</td>\n",
       "      <td>False</td>\n",
       "      <td>False</td>\n",
       "      <td>False</td>\n",
       "    </tr>\n",
       "    <tr>\n",
       "      <th>2</th>\n",
       "      <td>False</td>\n",
       "      <td>False</td>\n",
       "      <td>False</td>\n",
       "      <td>False</td>\n",
       "      <td>False</td>\n",
       "      <td>False</td>\n",
       "      <td>False</td>\n",
       "      <td>False</td>\n",
       "      <td>False</td>\n",
       "      <td>False</td>\n",
       "      <td>...</td>\n",
       "      <td>False</td>\n",
       "      <td>False</td>\n",
       "      <td>False</td>\n",
       "      <td>False</td>\n",
       "      <td>False</td>\n",
       "      <td>False</td>\n",
       "      <td>False</td>\n",
       "      <td>False</td>\n",
       "      <td>False</td>\n",
       "      <td>False</td>\n",
       "    </tr>\n",
       "    <tr>\n",
       "      <th>3</th>\n",
       "      <td>False</td>\n",
       "      <td>False</td>\n",
       "      <td>False</td>\n",
       "      <td>False</td>\n",
       "      <td>False</td>\n",
       "      <td>False</td>\n",
       "      <td>False</td>\n",
       "      <td>False</td>\n",
       "      <td>False</td>\n",
       "      <td>False</td>\n",
       "      <td>...</td>\n",
       "      <td>False</td>\n",
       "      <td>False</td>\n",
       "      <td>False</td>\n",
       "      <td>False</td>\n",
       "      <td>False</td>\n",
       "      <td>False</td>\n",
       "      <td>False</td>\n",
       "      <td>False</td>\n",
       "      <td>False</td>\n",
       "      <td>False</td>\n",
       "    </tr>\n",
       "    <tr>\n",
       "      <th>4</th>\n",
       "      <td>False</td>\n",
       "      <td>False</td>\n",
       "      <td>False</td>\n",
       "      <td>False</td>\n",
       "      <td>False</td>\n",
       "      <td>False</td>\n",
       "      <td>False</td>\n",
       "      <td>False</td>\n",
       "      <td>False</td>\n",
       "      <td>False</td>\n",
       "      <td>...</td>\n",
       "      <td>False</td>\n",
       "      <td>False</td>\n",
       "      <td>False</td>\n",
       "      <td>False</td>\n",
       "      <td>False</td>\n",
       "      <td>False</td>\n",
       "      <td>False</td>\n",
       "      <td>False</td>\n",
       "      <td>False</td>\n",
       "      <td>False</td>\n",
       "    </tr>\n",
       "    <tr>\n",
       "      <th>...</th>\n",
       "      <td>...</td>\n",
       "      <td>...</td>\n",
       "      <td>...</td>\n",
       "      <td>...</td>\n",
       "      <td>...</td>\n",
       "      <td>...</td>\n",
       "      <td>...</td>\n",
       "      <td>...</td>\n",
       "      <td>...</td>\n",
       "      <td>...</td>\n",
       "      <td>...</td>\n",
       "      <td>...</td>\n",
       "      <td>...</td>\n",
       "      <td>...</td>\n",
       "      <td>...</td>\n",
       "      <td>...</td>\n",
       "      <td>...</td>\n",
       "      <td>...</td>\n",
       "      <td>...</td>\n",
       "      <td>...</td>\n",
       "      <td>...</td>\n",
       "    </tr>\n",
       "    <tr>\n",
       "      <th>64456</th>\n",
       "      <td>False</td>\n",
       "      <td>False</td>\n",
       "      <td>False</td>\n",
       "      <td>False</td>\n",
       "      <td>False</td>\n",
       "      <td>False</td>\n",
       "      <td>False</td>\n",
       "      <td>False</td>\n",
       "      <td>False</td>\n",
       "      <td>False</td>\n",
       "      <td>...</td>\n",
       "      <td>False</td>\n",
       "      <td>False</td>\n",
       "      <td>False</td>\n",
       "      <td>False</td>\n",
       "      <td>False</td>\n",
       "      <td>False</td>\n",
       "      <td>False</td>\n",
       "      <td>True</td>\n",
       "      <td>False</td>\n",
       "      <td>False</td>\n",
       "    </tr>\n",
       "    <tr>\n",
       "      <th>64457</th>\n",
       "      <td>False</td>\n",
       "      <td>False</td>\n",
       "      <td>False</td>\n",
       "      <td>False</td>\n",
       "      <td>False</td>\n",
       "      <td>False</td>\n",
       "      <td>False</td>\n",
       "      <td>False</td>\n",
       "      <td>False</td>\n",
       "      <td>False</td>\n",
       "      <td>...</td>\n",
       "      <td>False</td>\n",
       "      <td>False</td>\n",
       "      <td>False</td>\n",
       "      <td>False</td>\n",
       "      <td>False</td>\n",
       "      <td>False</td>\n",
       "      <td>False</td>\n",
       "      <td>False</td>\n",
       "      <td>False</td>\n",
       "      <td>False</td>\n",
       "    </tr>\n",
       "    <tr>\n",
       "      <th>64458</th>\n",
       "      <td>False</td>\n",
       "      <td>False</td>\n",
       "      <td>False</td>\n",
       "      <td>False</td>\n",
       "      <td>False</td>\n",
       "      <td>False</td>\n",
       "      <td>False</td>\n",
       "      <td>False</td>\n",
       "      <td>False</td>\n",
       "      <td>False</td>\n",
       "      <td>...</td>\n",
       "      <td>False</td>\n",
       "      <td>False</td>\n",
       "      <td>False</td>\n",
       "      <td>False</td>\n",
       "      <td>False</td>\n",
       "      <td>False</td>\n",
       "      <td>False</td>\n",
       "      <td>False</td>\n",
       "      <td>False</td>\n",
       "      <td>False</td>\n",
       "    </tr>\n",
       "    <tr>\n",
       "      <th>64459</th>\n",
       "      <td>False</td>\n",
       "      <td>False</td>\n",
       "      <td>False</td>\n",
       "      <td>False</td>\n",
       "      <td>False</td>\n",
       "      <td>False</td>\n",
       "      <td>False</td>\n",
       "      <td>False</td>\n",
       "      <td>False</td>\n",
       "      <td>False</td>\n",
       "      <td>...</td>\n",
       "      <td>False</td>\n",
       "      <td>False</td>\n",
       "      <td>False</td>\n",
       "      <td>False</td>\n",
       "      <td>False</td>\n",
       "      <td>False</td>\n",
       "      <td>False</td>\n",
       "      <td>False</td>\n",
       "      <td>False</td>\n",
       "      <td>False</td>\n",
       "    </tr>\n",
       "    <tr>\n",
       "      <th>64460</th>\n",
       "      <td>False</td>\n",
       "      <td>False</td>\n",
       "      <td>False</td>\n",
       "      <td>False</td>\n",
       "      <td>False</td>\n",
       "      <td>False</td>\n",
       "      <td>False</td>\n",
       "      <td>False</td>\n",
       "      <td>False</td>\n",
       "      <td>False</td>\n",
       "      <td>...</td>\n",
       "      <td>False</td>\n",
       "      <td>False</td>\n",
       "      <td>False</td>\n",
       "      <td>False</td>\n",
       "      <td>False</td>\n",
       "      <td>False</td>\n",
       "      <td>False</td>\n",
       "      <td>False</td>\n",
       "      <td>False</td>\n",
       "      <td>False</td>\n",
       "    </tr>\n",
       "  </tbody>\n",
       "</table>\n",
       "<p>64306 rows × 23 columns</p>\n",
       "</div>"
      ],
      "text/plain": [
       "       Developer, desktop or enterprise applications  Developer, full-stack  \\\n",
       "0                                               True                   True   \n",
       "1                                              False                   True   \n",
       "2                                              False                  False   \n",
       "3                                              False                  False   \n",
       "4                                              False                  False   \n",
       "...                                              ...                    ...   \n",
       "64456                                          False                  False   \n",
       "64457                                          False                  False   \n",
       "64458                                          False                  False   \n",
       "64459                                          False                  False   \n",
       "64460                                          False                  False   \n",
       "\n",
       "       Developer, mobile  Designer  Developer, front-end  Developer, back-end  \\\n",
       "0                  False     False                 False                False   \n",
       "1                   True     False                 False                False   \n",
       "2                  False     False                 False                False   \n",
       "3                  False     False                 False                False   \n",
       "4                  False     False                 False                False   \n",
       "...                  ...       ...                   ...                  ...   \n",
       "64456              False     False                 False                False   \n",
       "64457              False     False                 False                False   \n",
       "64458              False     False                 False                False   \n",
       "64459              False     False                 False                False   \n",
       "64460              False     False                 False                False   \n",
       "\n",
       "       Developer, QA or test  DevOps specialist  Developer, game or graphics  \\\n",
       "0                      False              False                        False   \n",
       "1                      False              False                        False   \n",
       "2                      False              False                        False   \n",
       "3                      False              False                        False   \n",
       "4                      False              False                        False   \n",
       "...                      ...                ...                          ...   \n",
       "64456                  False              False                        False   \n",
       "64457                  False              False                        False   \n",
       "64458                  False              False                        False   \n",
       "64459                  False              False                        False   \n",
       "64460                  False              False                        False   \n",
       "\n",
       "       Database administrator  ...  System administrator  Engineering manager  \\\n",
       "0                       False  ...                 False                False   \n",
       "1                       False  ...                 False                False   \n",
       "2                       False  ...                 False                False   \n",
       "3                       False  ...                 False                False   \n",
       "4                       False  ...                 False                False   \n",
       "...                       ...  ...                   ...                  ...   \n",
       "64456                   False  ...                 False                False   \n",
       "64457                   False  ...                 False                False   \n",
       "64458                   False  ...                 False                False   \n",
       "64459                   False  ...                 False                False   \n",
       "64460                   False  ...                 False                False   \n",
       "\n",
       "       Product manager  Data or business analyst  Academic researcher  \\\n",
       "0                False                     False                False   \n",
       "1                False                     False                False   \n",
       "2                False                     False                False   \n",
       "3                False                     False                False   \n",
       "4                False                     False                False   \n",
       "...                ...                       ...                  ...   \n",
       "64456            False                     False                False   \n",
       "64457            False                     False                False   \n",
       "64458            False                     False                False   \n",
       "64459            False                     False                False   \n",
       "64460            False                     False                False   \n",
       "\n",
       "       Data scientist or machine learning specialist  Scientist  \\\n",
       "0                                              False      False   \n",
       "1                                              False      False   \n",
       "2                                              False      False   \n",
       "3                                              False      False   \n",
       "4                                              False      False   \n",
       "...                                              ...        ...   \n",
       "64456                                          False      False   \n",
       "64457                                          False      False   \n",
       "64458                                          False      False   \n",
       "64459                                          False      False   \n",
       "64460                                          False      False   \n",
       "\n",
       "       Senior executive/VP  Engineer, site reliability  \\\n",
       "0                    False                       False   \n",
       "1                    False                       False   \n",
       "2                    False                       False   \n",
       "3                    False                       False   \n",
       "4                    False                       False   \n",
       "...                    ...                         ...   \n",
       "64456                 True                       False   \n",
       "64457                False                       False   \n",
       "64458                False                       False   \n",
       "64459                False                       False   \n",
       "64460                False                       False   \n",
       "\n",
       "       Marketing or sales professional  \n",
       "0                                False  \n",
       "1                                False  \n",
       "2                                False  \n",
       "3                                False  \n",
       "4                                False  \n",
       "...                                ...  \n",
       "64456                            False  \n",
       "64457                            False  \n",
       "64458                            False  \n",
       "64459                            False  \n",
       "64460                            False  \n",
       "\n",
       "[64306 rows x 23 columns]"
      ]
     },
     "execution_count": 44,
     "metadata": {},
     "output_type": "execute_result"
    }
   ],
   "source": [
    "dev_type_df"
   ]
  },
  {
   "cell_type": "markdown",
   "metadata": {},
   "source": [
    "The `dev_type_df` has one column for each option that can be selected as a response. If a responded has selected the option, the value in the column is `True`, otherwise it is false.\n",
    "\n",
    "We can now use the column-wise totals to identify the most common roles."
   ]
  },
  {
   "cell_type": "code",
   "execution_count": 45,
   "metadata": {},
   "outputs": [
    {
     "data": {
      "text/plain": [
       "Developer, back-end                              26996\n",
       "Developer, full-stack                            26915\n",
       "Developer, front-end                             18128\n",
       "Developer, desktop or enterprise applications    11687\n",
       "Developer, mobile                                 9406\n",
       "DevOps specialist                                 5915\n",
       "Database administrator                            5658\n",
       "Designer                                          5262\n",
       "System administrator                              5185\n",
       "Developer, embedded applications or devices       4701\n",
       "Data or business analyst                          3970\n",
       "Data scientist or machine learning specialist     3939\n",
       "Developer, QA or test                             3893\n",
       "Engineer, data                                    3700\n",
       "Academic researcher                               3502\n",
       "Educator                                          2895\n",
       "Developer, game or graphics                       2751\n",
       "Engineering manager                               2699\n",
       "Product manager                                   2471\n",
       "Scientist                                         2060\n",
       "Engineer, site reliability                        1921\n",
       "Senior executive/VP                               1292\n",
       "Marketing or sales professional                    625\n",
       "dtype: int64"
      ]
     },
     "execution_count": 45,
     "metadata": {},
     "output_type": "execute_result"
    }
   ],
   "source": [
    "dev_type_totals = dev_type_df.sum().sort_values(ascending=False)\n",
    "dev_type_totals"
   ]
  },
  {
   "cell_type": "markdown",
   "metadata": {},
   "source": [
    "As one might expect, the most common roles include \"Developer\" in the name. \n",
    "\n",
    "**Exercises**: \n",
    "\n",
    "* Can you figure out what percentage of respondents work in roles related to data science? \n",
    "* Which role has the highest percentage of women?"
   ]
  },
  {
   "cell_type": "markdown",
   "metadata": {},
   "source": [
    "We've only explore a handful of columns from the 20 columns that we selected. Explore and visualize the remaining columns using the empty cells below."
   ]
  },
  {
   "cell_type": "code",
   "execution_count": null,
   "metadata": {},
   "outputs": [],
   "source": []
  },
  {
   "cell_type": "code",
   "execution_count": null,
   "metadata": {},
   "outputs": [],
   "source": []
  },
  {
   "cell_type": "code",
   "execution_count": null,
   "metadata": {},
   "outputs": [],
   "source": []
  },
  {
   "cell_type": "markdown",
   "metadata": {},
   "source": [
    "## Asking and Answering Questions\n",
    "\n",
    "We've already gained several insights about the respondents and the programming community in general, simply by exploring individual columns of the dataset. Let's ask some specific questions, and try to answer them using data frame operations and interesting visualizations."
   ]
  },
  {
   "cell_type": "markdown",
   "metadata": {},
   "source": [
    "#### Q: Which were the most popular programming languages in 2020? \n",
    "\n",
    "To answer, this we can use the `LanguageWorkedWith` column. Similar to `DevType` respondents were allowed to choose multiple options here."
   ]
  },
  {
   "cell_type": "code",
   "execution_count": 46,
   "metadata": {},
   "outputs": [
    {
     "data": {
      "text/plain": [
       "0                                   C#;HTML/CSS;JavaScript\n",
       "1                                         JavaScript;Swift\n",
       "2                                 Objective-C;Python;Swift\n",
       "3                                                      NaN\n",
       "4                                        HTML/CSS;Ruby;SQL\n",
       "                               ...                        \n",
       "64456                                                  NaN\n",
       "64457    Assembly;Bash/Shell/PowerShell;C;C#;C++;Dart;G...\n",
       "64458                                                  NaN\n",
       "64459                                             HTML/CSS\n",
       "64460                      C#;HTML/CSS;Java;JavaScript;SQL\n",
       "Name: LanguageWorkedWith, Length: 64306, dtype: object"
      ]
     },
     "execution_count": 46,
     "metadata": {},
     "output_type": "execute_result"
    }
   ],
   "source": [
    "survey_df.LanguageWorkedWith"
   ]
  },
  {
   "cell_type": "markdown",
   "metadata": {},
   "source": [
    "First, we'll split this column into a data frame containing a column of each languages listed in the options."
   ]
  },
  {
   "cell_type": "code",
   "execution_count": 47,
   "metadata": {},
   "outputs": [],
   "source": [
    "languages_worked_df = split_multicolumn(survey_df.LanguageWorkedWith)"
   ]
  },
  {
   "cell_type": "code",
   "execution_count": 48,
   "metadata": {},
   "outputs": [
    {
     "data": {
      "text/html": [
       "<div>\n",
       "<style scoped>\n",
       "    .dataframe tbody tr th:only-of-type {\n",
       "        vertical-align: middle;\n",
       "    }\n",
       "\n",
       "    .dataframe tbody tr th {\n",
       "        vertical-align: top;\n",
       "    }\n",
       "\n",
       "    .dataframe thead th {\n",
       "        text-align: right;\n",
       "    }\n",
       "</style>\n",
       "<table border=\"1\" class=\"dataframe\">\n",
       "  <thead>\n",
       "    <tr style=\"text-align: right;\">\n",
       "      <th></th>\n",
       "      <th>C#</th>\n",
       "      <th>HTML/CSS</th>\n",
       "      <th>JavaScript</th>\n",
       "      <th>Swift</th>\n",
       "      <th>Objective-C</th>\n",
       "      <th>Python</th>\n",
       "      <th>Ruby</th>\n",
       "      <th>SQL</th>\n",
       "      <th>Java</th>\n",
       "      <th>PHP</th>\n",
       "      <th>...</th>\n",
       "      <th>VBA</th>\n",
       "      <th>Perl</th>\n",
       "      <th>Scala</th>\n",
       "      <th>C++</th>\n",
       "      <th>Go</th>\n",
       "      <th>Haskell</th>\n",
       "      <th>Rust</th>\n",
       "      <th>Dart</th>\n",
       "      <th>Julia</th>\n",
       "      <th>Assembly</th>\n",
       "    </tr>\n",
       "  </thead>\n",
       "  <tbody>\n",
       "    <tr>\n",
       "      <th>0</th>\n",
       "      <td>True</td>\n",
       "      <td>True</td>\n",
       "      <td>True</td>\n",
       "      <td>False</td>\n",
       "      <td>False</td>\n",
       "      <td>False</td>\n",
       "      <td>False</td>\n",
       "      <td>False</td>\n",
       "      <td>False</td>\n",
       "      <td>False</td>\n",
       "      <td>...</td>\n",
       "      <td>False</td>\n",
       "      <td>False</td>\n",
       "      <td>False</td>\n",
       "      <td>False</td>\n",
       "      <td>False</td>\n",
       "      <td>False</td>\n",
       "      <td>False</td>\n",
       "      <td>False</td>\n",
       "      <td>False</td>\n",
       "      <td>False</td>\n",
       "    </tr>\n",
       "    <tr>\n",
       "      <th>1</th>\n",
       "      <td>False</td>\n",
       "      <td>False</td>\n",
       "      <td>True</td>\n",
       "      <td>True</td>\n",
       "      <td>False</td>\n",
       "      <td>False</td>\n",
       "      <td>False</td>\n",
       "      <td>False</td>\n",
       "      <td>False</td>\n",
       "      <td>False</td>\n",
       "      <td>...</td>\n",
       "      <td>False</td>\n",
       "      <td>False</td>\n",
       "      <td>False</td>\n",
       "      <td>False</td>\n",
       "      <td>False</td>\n",
       "      <td>False</td>\n",
       "      <td>False</td>\n",
       "      <td>False</td>\n",
       "      <td>False</td>\n",
       "      <td>False</td>\n",
       "    </tr>\n",
       "    <tr>\n",
       "      <th>2</th>\n",
       "      <td>False</td>\n",
       "      <td>False</td>\n",
       "      <td>False</td>\n",
       "      <td>True</td>\n",
       "      <td>True</td>\n",
       "      <td>True</td>\n",
       "      <td>False</td>\n",
       "      <td>False</td>\n",
       "      <td>False</td>\n",
       "      <td>False</td>\n",
       "      <td>...</td>\n",
       "      <td>False</td>\n",
       "      <td>False</td>\n",
       "      <td>False</td>\n",
       "      <td>False</td>\n",
       "      <td>False</td>\n",
       "      <td>False</td>\n",
       "      <td>False</td>\n",
       "      <td>False</td>\n",
       "      <td>False</td>\n",
       "      <td>False</td>\n",
       "    </tr>\n",
       "    <tr>\n",
       "      <th>3</th>\n",
       "      <td>False</td>\n",
       "      <td>False</td>\n",
       "      <td>False</td>\n",
       "      <td>False</td>\n",
       "      <td>False</td>\n",
       "      <td>False</td>\n",
       "      <td>False</td>\n",
       "      <td>False</td>\n",
       "      <td>False</td>\n",
       "      <td>False</td>\n",
       "      <td>...</td>\n",
       "      <td>False</td>\n",
       "      <td>False</td>\n",
       "      <td>False</td>\n",
       "      <td>False</td>\n",
       "      <td>False</td>\n",
       "      <td>False</td>\n",
       "      <td>False</td>\n",
       "      <td>False</td>\n",
       "      <td>False</td>\n",
       "      <td>False</td>\n",
       "    </tr>\n",
       "    <tr>\n",
       "      <th>4</th>\n",
       "      <td>False</td>\n",
       "      <td>True</td>\n",
       "      <td>False</td>\n",
       "      <td>False</td>\n",
       "      <td>False</td>\n",
       "      <td>False</td>\n",
       "      <td>True</td>\n",
       "      <td>True</td>\n",
       "      <td>False</td>\n",
       "      <td>False</td>\n",
       "      <td>...</td>\n",
       "      <td>False</td>\n",
       "      <td>False</td>\n",
       "      <td>False</td>\n",
       "      <td>False</td>\n",
       "      <td>False</td>\n",
       "      <td>False</td>\n",
       "      <td>False</td>\n",
       "      <td>False</td>\n",
       "      <td>False</td>\n",
       "      <td>False</td>\n",
       "    </tr>\n",
       "    <tr>\n",
       "      <th>...</th>\n",
       "      <td>...</td>\n",
       "      <td>...</td>\n",
       "      <td>...</td>\n",
       "      <td>...</td>\n",
       "      <td>...</td>\n",
       "      <td>...</td>\n",
       "      <td>...</td>\n",
       "      <td>...</td>\n",
       "      <td>...</td>\n",
       "      <td>...</td>\n",
       "      <td>...</td>\n",
       "      <td>...</td>\n",
       "      <td>...</td>\n",
       "      <td>...</td>\n",
       "      <td>...</td>\n",
       "      <td>...</td>\n",
       "      <td>...</td>\n",
       "      <td>...</td>\n",
       "      <td>...</td>\n",
       "      <td>...</td>\n",
       "      <td>...</td>\n",
       "    </tr>\n",
       "    <tr>\n",
       "      <th>64456</th>\n",
       "      <td>False</td>\n",
       "      <td>False</td>\n",
       "      <td>False</td>\n",
       "      <td>False</td>\n",
       "      <td>False</td>\n",
       "      <td>False</td>\n",
       "      <td>False</td>\n",
       "      <td>False</td>\n",
       "      <td>False</td>\n",
       "      <td>False</td>\n",
       "      <td>...</td>\n",
       "      <td>False</td>\n",
       "      <td>False</td>\n",
       "      <td>False</td>\n",
       "      <td>False</td>\n",
       "      <td>False</td>\n",
       "      <td>False</td>\n",
       "      <td>False</td>\n",
       "      <td>False</td>\n",
       "      <td>False</td>\n",
       "      <td>False</td>\n",
       "    </tr>\n",
       "    <tr>\n",
       "      <th>64457</th>\n",
       "      <td>True</td>\n",
       "      <td>True</td>\n",
       "      <td>True</td>\n",
       "      <td>True</td>\n",
       "      <td>True</td>\n",
       "      <td>True</td>\n",
       "      <td>True</td>\n",
       "      <td>True</td>\n",
       "      <td>True</td>\n",
       "      <td>True</td>\n",
       "      <td>...</td>\n",
       "      <td>True</td>\n",
       "      <td>True</td>\n",
       "      <td>True</td>\n",
       "      <td>True</td>\n",
       "      <td>True</td>\n",
       "      <td>True</td>\n",
       "      <td>True</td>\n",
       "      <td>True</td>\n",
       "      <td>True</td>\n",
       "      <td>True</td>\n",
       "    </tr>\n",
       "    <tr>\n",
       "      <th>64458</th>\n",
       "      <td>False</td>\n",
       "      <td>False</td>\n",
       "      <td>False</td>\n",
       "      <td>False</td>\n",
       "      <td>False</td>\n",
       "      <td>False</td>\n",
       "      <td>False</td>\n",
       "      <td>False</td>\n",
       "      <td>False</td>\n",
       "      <td>False</td>\n",
       "      <td>...</td>\n",
       "      <td>False</td>\n",
       "      <td>False</td>\n",
       "      <td>False</td>\n",
       "      <td>False</td>\n",
       "      <td>False</td>\n",
       "      <td>False</td>\n",
       "      <td>False</td>\n",
       "      <td>False</td>\n",
       "      <td>False</td>\n",
       "      <td>False</td>\n",
       "    </tr>\n",
       "    <tr>\n",
       "      <th>64459</th>\n",
       "      <td>False</td>\n",
       "      <td>True</td>\n",
       "      <td>False</td>\n",
       "      <td>False</td>\n",
       "      <td>False</td>\n",
       "      <td>False</td>\n",
       "      <td>False</td>\n",
       "      <td>False</td>\n",
       "      <td>False</td>\n",
       "      <td>False</td>\n",
       "      <td>...</td>\n",
       "      <td>False</td>\n",
       "      <td>False</td>\n",
       "      <td>False</td>\n",
       "      <td>False</td>\n",
       "      <td>False</td>\n",
       "      <td>False</td>\n",
       "      <td>False</td>\n",
       "      <td>False</td>\n",
       "      <td>False</td>\n",
       "      <td>False</td>\n",
       "    </tr>\n",
       "    <tr>\n",
       "      <th>64460</th>\n",
       "      <td>True</td>\n",
       "      <td>True</td>\n",
       "      <td>True</td>\n",
       "      <td>False</td>\n",
       "      <td>False</td>\n",
       "      <td>False</td>\n",
       "      <td>False</td>\n",
       "      <td>True</td>\n",
       "      <td>True</td>\n",
       "      <td>False</td>\n",
       "      <td>...</td>\n",
       "      <td>False</td>\n",
       "      <td>False</td>\n",
       "      <td>False</td>\n",
       "      <td>False</td>\n",
       "      <td>False</td>\n",
       "      <td>False</td>\n",
       "      <td>False</td>\n",
       "      <td>False</td>\n",
       "      <td>False</td>\n",
       "      <td>False</td>\n",
       "    </tr>\n",
       "  </tbody>\n",
       "</table>\n",
       "<p>64306 rows × 25 columns</p>\n",
       "</div>"
      ],
      "text/plain": [
       "          C#  HTML/CSS  JavaScript  Swift  Objective-C  Python   Ruby    SQL  \\\n",
       "0       True      True        True  False        False   False  False  False   \n",
       "1      False     False        True   True        False   False  False  False   \n",
       "2      False     False       False   True         True    True  False  False   \n",
       "3      False     False       False  False        False   False  False  False   \n",
       "4      False      True       False  False        False   False   True   True   \n",
       "...      ...       ...         ...    ...          ...     ...    ...    ...   \n",
       "64456  False     False       False  False        False   False  False  False   \n",
       "64457   True      True        True   True         True    True   True   True   \n",
       "64458  False     False       False  False        False   False  False  False   \n",
       "64459  False      True       False  False        False   False  False  False   \n",
       "64460   True      True        True  False        False   False  False   True   \n",
       "\n",
       "        Java    PHP  ...    VBA   Perl  Scala    C++     Go  Haskell   Rust  \\\n",
       "0      False  False  ...  False  False  False  False  False    False  False   \n",
       "1      False  False  ...  False  False  False  False  False    False  False   \n",
       "2      False  False  ...  False  False  False  False  False    False  False   \n",
       "3      False  False  ...  False  False  False  False  False    False  False   \n",
       "4      False  False  ...  False  False  False  False  False    False  False   \n",
       "...      ...    ...  ...    ...    ...    ...    ...    ...      ...    ...   \n",
       "64456  False  False  ...  False  False  False  False  False    False  False   \n",
       "64457   True   True  ...   True   True   True   True   True     True   True   \n",
       "64458  False  False  ...  False  False  False  False  False    False  False   \n",
       "64459  False  False  ...  False  False  False  False  False    False  False   \n",
       "64460   True  False  ...  False  False  False  False  False    False  False   \n",
       "\n",
       "        Dart  Julia  Assembly  \n",
       "0      False  False     False  \n",
       "1      False  False     False  \n",
       "2      False  False     False  \n",
       "3      False  False     False  \n",
       "4      False  False     False  \n",
       "...      ...    ...       ...  \n",
       "64456  False  False     False  \n",
       "64457   True   True      True  \n",
       "64458  False  False     False  \n",
       "64459  False  False     False  \n",
       "64460  False  False     False  \n",
       "\n",
       "[64306 rows x 25 columns]"
      ]
     },
     "execution_count": 48,
     "metadata": {},
     "output_type": "execute_result"
    }
   ],
   "source": [
    "languages_worked_df"
   ]
  },
  {
   "cell_type": "markdown",
   "metadata": {},
   "source": [
    "It appears that a total of 25 languages were included among the options. Let's aggregate these to identify the percentage of respondents who selected each language."
   ]
  },
  {
   "cell_type": "code",
   "execution_count": 49,
   "metadata": {},
   "outputs": [
    {
     "data": {
      "text/plain": [
       "JavaScript               59.893323\n",
       "HTML/CSS                 55.801947\n",
       "SQL                      48.444935\n",
       "Python                   39.001026\n",
       "Java                     35.618760\n",
       "Bash/Shell/PowerShell    29.239884\n",
       "C#                       27.803004\n",
       "PHP                      23.130035\n",
       "TypeScript               22.461357\n",
       "C++                      21.114670\n",
       "C                        19.236152\n",
       "Go                        7.758219\n",
       "Kotlin                    6.887382\n",
       "Ruby                      6.229590\n",
       "Assembly                  5.447392\n",
       "VBA                       5.394520\n",
       "Swift                     5.226573\n",
       "R                         5.064846\n",
       "Rust                      4.498803\n",
       "Objective-C               3.603085\n",
       "Dart                      3.517557\n",
       "Scala                     3.150561\n",
       "Perl                      2.757130\n",
       "Haskell                   1.861413\n",
       "Julia                     0.782198\n",
       "dtype: float64"
      ]
     },
     "execution_count": 49,
     "metadata": {},
     "output_type": "execute_result"
    }
   ],
   "source": [
    "languages_worked_percentages = languages_worked_df.mean().sort_values(ascending=False) * 100\n",
    "languages_worked_percentages"
   ]
  },
  {
   "cell_type": "markdown",
   "metadata": {},
   "source": [
    "We can plot this information using a horizontal bar chart."
   ]
  },
  {
   "cell_type": "code",
   "execution_count": 50,
   "metadata": {},
   "outputs": [
    {
     "data": {
      "image/png": "[encoded data removed]",
      "text/plain": [
       "<Figure size 864x864 with 1 Axes>"
      ]
     },
     "metadata": {
      "needs_background": "light"
     },
     "output_type": "display_data"
    }
   ],
   "source": [
    "plt.figure(figsize=(12, 12))\n",
    "sns.barplot(languages_worked_percentages, languages_worked_percentages.index)\n",
    "plt.title(\"Languages used in the past year\");\n",
    "plt.xlabel('count');"
   ]
  },
  {
   "cell_type": "markdown",
   "metadata": {},
   "source": [
    "Perhaps not surprisingly, Javascript & HTML/CSS comes out at the top as web development is one of the most sought skills today and it's also happens to be one of the easiest to get started with. SQL is necessary for working with relational databases, so it's no surprise that most programmers work with SQL on a regular basis. For other forms of development, Python seems be the popular choice, beating out Java, which was the industry standard for server & application development for over 2 decades.\n",
    "\n",
    "**Exercises**:\n",
    "\n",
    "* What are the most common languages used by students? How does the list compare with the most common languages used by professional developers?\n",
    "* What are the most common languages among respondents who do not describe themselves as \"Developer, front-end\"?\n",
    "* What are the most common languages among respondents who work in fields related to data science?\n",
    "* What are the most common languages used by developers older than 35 years of age? \n",
    "* What are the most common languages used by developers in your home country?"
   ]
  },
  {
   "cell_type": "markdown",
   "metadata": {},
   "source": [
    "#### Q: Which languages are the most people interested to learn over the next year?\n",
    "\n",
    "For this we can can use the `LanguageDesireNextYear` column, with similar processing as the previous one."
   ]
  },
  {
   "cell_type": "code",
   "execution_count": 51,
   "metadata": {},
   "outputs": [
    {
     "data": {
      "text/plain": [
       "Python                   41.143906\n",
       "JavaScript               40.425466\n",
       "HTML/CSS                 32.028116\n",
       "SQL                      30.799614\n",
       "TypeScript               26.451653\n",
       "C#                       21.058688\n",
       "Java                     20.464653\n",
       "Go                       19.432090\n",
       "Bash/Shell/PowerShell    18.057413\n",
       "Rust                     16.270643\n",
       "C++                      15.014151\n",
       "Kotlin                   14.760676\n",
       "PHP                      10.947657\n",
       "C                         9.359935\n",
       "Swift                     8.692812\n",
       "Dart                      7.308805\n",
       "R                         6.571704\n",
       "Ruby                      6.425528\n",
       "Scala                     5.326097\n",
       "Haskell                   4.593662\n",
       "Assembly                  3.766367\n",
       "Julia                     2.540976\n",
       "Objective-C               2.338818\n",
       "Perl                      1.761888\n",
       "VBA                       1.611047\n",
       "dtype: float64"
      ]
     },
     "execution_count": 51,
     "metadata": {},
     "output_type": "execute_result"
    }
   ],
   "source": [
    "languages_interested_df = split_multicolumn(survey_df.LanguageDesireNextYear)\n",
    "languages_interested_percentages = languages_interested_df.mean().sort_values(ascending=False) * 100\n",
    "languages_interested_percentages"
   ]
  },
  {
   "cell_type": "code",
   "execution_count": 52,
   "metadata": {},
   "outputs": [
    {
     "data": {
      "image/png": "[encoded data removed]",
      "text/plain": [
       "<Figure size 864x864 with 1 Axes>"
      ]
     },
     "metadata": {
      "needs_background": "light"
     },
     "output_type": "display_data"
    }
   ],
   "source": [
    "plt.figure(figsize=(12, 12))\n",
    "sns.barplot(languages_interested_percentages, languages_interested_percentages.index)\n",
    "plt.title(\"Languages people are intersted in learning over the next year\");\n",
    "plt.xlabel('count');"
   ]
  },
  {
   "cell_type": "markdown",
   "metadata": {},
   "source": [
    "Once again, it's not surprising that Python is the language most people are interested in learning - since it is an easy-to-learn general purpose programming language well suited for a variety of domains: application development, numerical computing, data analysis, machine learning, big data, cloud automation, web scraping, scripting etc. etc. We're using Python for this very analysis, so we're in good company!\n",
    "\n",
    "**Exercises**: Repeat all the exercises for the previous question, replacing \"most common languages\" with \"languages people are interested in learning/using\"."
   ]
  },
  {
   "cell_type": "markdown",
   "metadata": {},
   "source": [
    "#### Q:  Which are the most loved languages i.e. a high percentage of people who have used the language want to continue learning & using it over the next year?\n",
    "\n",
    "While this question may seem trick at first, it's really easy to solve using Pandas array operations. Here's what we can do:\n",
    "\n",
    "- Create a new data frame `languages_loved_df` which contains a `True` value for a language only if the corresponding values in `languages_worked_df` and `languages_interested_df` are both `True`\n",
    "- Take the column wise sum of `languages_loved_df` and divide it by the column-wise sum of `languages_worked_df` to get the percentage of respondents who \"love\" the language\n",
    "- Sort the results in decreasing order and plot a horizontal bar graph"
   ]
  },
  {
   "cell_type": "code",
   "execution_count": 53,
   "metadata": {},
   "outputs": [],
   "source": [
    "languages_loved_df = languages_worked_df & languages_interested_df"
   ]
  },
  {
   "cell_type": "code",
   "execution_count": 54,
   "metadata": {},
   "outputs": [],
   "source": [
    "languages_loved_percentages = (languages_loved_df.sum() * 100/ languages_worked_df.sum()).sort_values(ascending=False)"
   ]
  },
  {
   "cell_type": "code",
   "execution_count": 55,
   "metadata": {},
   "outputs": [
    {
     "data": {
      "image/png": "[encoded data removed]",
      "text/plain": [
       "<Figure size 864x864 with 1 Axes>"
      ]
     },
     "metadata": {
      "needs_background": "light"
     },
     "output_type": "display_data"
    }
   ],
   "source": [
    "plt.figure(figsize=(12, 12))\n",
    "sns.barplot(languages_loved_percentages, languages_loved_percentages.index)\n",
    "plt.title(\"Most loved languages\");\n",
    "plt.xlabel('count');"
   ]
  },
  {
   "cell_type": "markdown",
   "metadata": {},
   "source": [
    "[Rust](https://www.rust-lang.org) has been StackOverflow's most-loved language for [4 years in a row](https://stackoverflow.blog/2020/01/20/what-is-rust-and-why-is-it-so-popular/), followed by TypeScript which has gained a lot of popularity in the past few years as a good alternative to JavaScript for web development.\n",
    "\n",
    "Python features at number 3, despite already being one of the most widely-used languages in world. This is testament to the fact the language has solid foundation, is really easy to learn & use, has a strong ecosystem of libraries for various and massive worldwide community of developers to enjoy using it.\n",
    "\n",
    "**Exercises:** What are the _most dreaded languages_ i.e. languages which people have used in the past year, but do not want to learn/use over the next year. Hint: `~languages_interested_df`"
   ]
  },
  {
   "cell_type": "markdown",
   "metadata": {},
   "source": [
    "#### Q: In which countries do developers work the highest number of hours per week? Consider countries with more than 250 responses only.\n",
    "\n",
    "To answer this question, we'll need to use the `groupby` data frame method to aggregate the rows for each country. We'll also need to filter the results to only include the countries which have more than 250 respondents."
   ]
  },
  {
   "cell_type": "code",
   "execution_count": 56,
   "metadata": {},
   "outputs": [],
   "source": [
    "countries_df = survey_df.groupby('Country')[['WorkWeekHrs']].mean().sort_values('WorkWeekHrs', ascending=False)"
   ]
  },
  {
   "cell_type": "code",
   "execution_count": 57,
   "metadata": {},
   "outputs": [],
   "source": [
    "high_response_countries_df = countries_df.loc[survey_df.Country.value_counts() > 250].head(15)"
   ]
  },
  {
   "cell_type": "code",
   "execution_count": 58,
   "metadata": {},
   "outputs": [
    {
     "data": {
      "text/html": [
       "<div>\n",
       "<style scoped>\n",
       "    .dataframe tbody tr th:only-of-type {\n",
       "        vertical-align: middle;\n",
       "    }\n",
       "\n",
       "    .dataframe tbody tr th {\n",
       "        vertical-align: top;\n",
       "    }\n",
       "\n",
       "    .dataframe thead th {\n",
       "        text-align: right;\n",
       "    }\n",
       "</style>\n",
       "<table border=\"1\" class=\"dataframe\">\n",
       "  <thead>\n",
       "    <tr style=\"text-align: right;\">\n",
       "      <th></th>\n",
       "      <th>WorkWeekHrs</th>\n",
       "    </tr>\n",
       "    <tr>\n",
       "      <th>Country</th>\n",
       "      <th></th>\n",
       "    </tr>\n",
       "  </thead>\n",
       "  <tbody>\n",
       "    <tr>\n",
       "      <th>Iran</th>\n",
       "      <td>44.337748</td>\n",
       "    </tr>\n",
       "    <tr>\n",
       "      <th>Israel</th>\n",
       "      <td>43.915094</td>\n",
       "    </tr>\n",
       "    <tr>\n",
       "      <th>China</th>\n",
       "      <td>42.150000</td>\n",
       "    </tr>\n",
       "    <tr>\n",
       "      <th>United States</th>\n",
       "      <td>41.802982</td>\n",
       "    </tr>\n",
       "    <tr>\n",
       "      <th>Greece</th>\n",
       "      <td>41.402724</td>\n",
       "    </tr>\n",
       "    <tr>\n",
       "      <th>Viet Nam</th>\n",
       "      <td>41.391667</td>\n",
       "    </tr>\n",
       "    <tr>\n",
       "      <th>South Africa</th>\n",
       "      <td>41.023460</td>\n",
       "    </tr>\n",
       "    <tr>\n",
       "      <th>Turkey</th>\n",
       "      <td>40.982143</td>\n",
       "    </tr>\n",
       "    <tr>\n",
       "      <th>Sri Lanka</th>\n",
       "      <td>40.612245</td>\n",
       "    </tr>\n",
       "    <tr>\n",
       "      <th>New Zealand</th>\n",
       "      <td>40.457551</td>\n",
       "    </tr>\n",
       "    <tr>\n",
       "      <th>Belgium</th>\n",
       "      <td>40.444444</td>\n",
       "    </tr>\n",
       "    <tr>\n",
       "      <th>Canada</th>\n",
       "      <td>40.208837</td>\n",
       "    </tr>\n",
       "    <tr>\n",
       "      <th>Hungary</th>\n",
       "      <td>40.194340</td>\n",
       "    </tr>\n",
       "    <tr>\n",
       "      <th>Bangladesh</th>\n",
       "      <td>40.097458</td>\n",
       "    </tr>\n",
       "    <tr>\n",
       "      <th>India</th>\n",
       "      <td>40.090603</td>\n",
       "    </tr>\n",
       "  </tbody>\n",
       "</table>\n",
       "</div>"
      ],
      "text/plain": [
       "               WorkWeekHrs\n",
       "Country                   \n",
       "Iran             44.337748\n",
       "Israel           43.915094\n",
       "China            42.150000\n",
       "United States    41.802982\n",
       "Greece           41.402724\n",
       "Viet Nam         41.391667\n",
       "South Africa     41.023460\n",
       "Turkey           40.982143\n",
       "Sri Lanka        40.612245\n",
       "New Zealand      40.457551\n",
       "Belgium          40.444444\n",
       "Canada           40.208837\n",
       "Hungary          40.194340\n",
       "Bangladesh       40.097458\n",
       "India            40.090603"
      ]
     },
     "execution_count": 58,
     "metadata": {},
     "output_type": "execute_result"
    }
   ],
   "source": [
    "high_response_countries_df"
   ]
  },
  {
   "cell_type": "markdown",
   "metadata": {},
   "source": [
    "The Asian countries like Iran, China & Israel have the highest working hours, followed by the United States. However, there isn't too much variation overall and the average working hours seem to be around 40 hours per week.\n",
    "\n",
    "**Exercises:**\n",
    "\n",
    "* How to the average work hours compare across continents? You may find this list of [countries in each continent](https://hub.jovian.ml/wp-content/uploads/2020/09/countries.csv) useful.\n",
    "* Which role has the highest average number of hours worked per week? Which role has the lowest?\n",
    "* How do the hours worked compare between freelancers and developers working full-time?"
   ]
  },
  {
   "cell_type": "markdown",
   "metadata": {},
   "source": [
    "#### Q: How important is it to start young to build a career in programming?\n",
    "\n",
    "Let's create a scatter plot of `Age` vs. `YearsCodePro` (i.e. years of coding experience) to answer this question."
   ]
  },
  {
   "cell_type": "code",
   "execution_count": 59,
   "metadata": {},
   "outputs": [
    {
     "data": {
      "text/plain": [
       "'NOT including education, how many years have you coded professionally (as a part of your work)?'"
      ]
     },
     "execution_count": 59,
     "metadata": {},
     "output_type": "execute_result"
    }
   ],
   "source": [
    "schema.YearsCodePro"
   ]
  },
  {
   "cell_type": "code",
   "execution_count": 60,
   "metadata": {},
   "outputs": [
    {
     "data": {
      "image/png": "[encoded data removed]",
      "text/plain": [
       "<Figure size 648x360 with 1 Axes>"
      ]
     },
     "metadata": {
      "needs_background": "light"
     },
     "output_type": "display_data"
    }
   ],
   "source": [
    "sns.scatterplot('Age', 'YearsCodePro', hue='Hobbyist', data=survey_df)\n",
    "plt.xlabel(\"Age\")\n",
    "plt.ylabel(\"Years of professional coding experience\");"
   ]
  },
  {
   "cell_type": "markdown",
   "metadata": {},
   "source": [
    "You can see points all over the graph, which seems to indicate that you can **start programming professionally at any age**. Also, many people who have been coding for several decades professionally also seem to enjoy it has a hobby.\n",
    "\n",
    "We can also view the distribution of `Age1stCode` column to see when the respondents tried programming for the first time."
   ]
  },
  {
   "cell_type": "code",
   "execution_count": 61,
   "metadata": {},
   "outputs": [
    {
     "data": {
      "image/png": "[encoded data removed]",
      "text/plain": [
       "<Figure size 648x360 with 1 Axes>"
      ]
     },
     "metadata": {
      "needs_background": "light"
     },
     "output_type": "display_data"
    }
   ],
   "source": [
    "plt.title(schema.Age1stCode)\n",
    "sns.distplot(survey_df.Age1stCode);"
   ]
  },
  {
   "cell_type": "markdown",
   "metadata": {},
   "source": [
    "As you might expect, most people seem to have had some exposure to programming before the age of 40, but there are people of all ages and walks of life who are learning to code.\n",
    "\n",
    "**Exercises**:\n",
    "* How does experience change opinions & preferences? Repeat the entire analysis while comparing the responses of people who have more than 10 years of professional programming experience v.s. those who don't. Do you see any interesting trends?\n",
    "* Compare the years of professional coding experience across different genders. "
   ]
  },
  {
   "cell_type": "markdown",
   "metadata": {},
   "source": [
    "We've barely scratched the surface here, and hopefully you are already thinking of many more questions that you'd like to answer using this data. Use the empty cells to below to ask and answer more questions."
   ]
  },
  {
   "cell_type": "code",
   "execution_count": null,
   "metadata": {},
   "outputs": [],
   "source": []
  },
  {
   "cell_type": "code",
   "execution_count": null,
   "metadata": {},
   "outputs": [],
   "source": []
  },
  {
   "cell_type": "code",
   "execution_count": null,
   "metadata": {},
   "outputs": [],
   "source": []
  },
  {
   "cell_type": "markdown",
   "metadata": {},
   "source": [
    "## Inferences and Conclusions\n",
    "\n",
    "We've drawn many interesting inferences from the survey, here's a summary of the few of them:\n",
    "\n",
    "- Based on the demographics of the survey respondents, we can infer that the survey is somewhat representative of the overall programming community, although it definitely has fewer responses from programmers in non-English-speaking countries and from women & non-binary genders.\n",
    "\n",
    "- The programming community is not as diverse as it can be, and although things are improving, we should take more efforts to support & encourage members of underrepresented communities - whether it is in terms of age, country, race, gender or otherwise.\n",
    "\n",
    "- Most programmers hold a college degree, although a fairly large percentage did not have computer science as their major in college, so a computer science degree isn't compulsory for learning to code or building a career in programming.\n",
    "\n",
    "- A significant percentage of programmers either work part time or as freelancers, and this can be a great way to break into the field, especially when you're just getting started.\n",
    "\n",
    "- Javascript & HTML/CSS are the most used programming languages in 2020, closely followed by SQL & Python\n",
    "\n",
    "- Python is the language most people are interested in learning - since it is an easy-to-learn general purpose programming language well suited for a variety of domains.\n",
    "\n",
    "- Rust and TypeScript are the most \"loved\" languages in 2020, both of which have small but fast-growing communities. Python is a close third, despite already being a widely used language.\n",
    "\n",
    "- Programmers around the world seems be working for around 40 hours a week on average, with slight variations by country.\n",
    "\n",
    "- You can learn and start programming professionally at any age, and you're likely to have a long and fulfilling career if you also enjoy programming as a hobby."
   ]
  },
  {
   "cell_type": "markdown",
   "metadata": {},
   "source": [
    "## References and Future Work\n",
    "\n",
    "There's a wealth of information to be discovered using the survey, and we've barely scratched the surface. Here are some ideas for further exploration:\n",
    "\n",
    "- Repeat the analysis for different age groups & genders, and compare the results\n",
    "- Choose a different set of columns (we chose on 20 out of 65) to analyze other facets of the data\n",
    "- Prepare an analysis focusing on diversity - and identify areas where underrepresented communities are at par with the majority (e.g. education) and where they aren't (e.g. salaries)\n",
    "- Compare the results of this year's survey with the previous years and identify interesting trends\n",
    "\n",
    "References:\n",
    "\n",
    "- Stack Overflow Developer Survey: https://insights.stackoverflow.com/survey\n",
    "- Pandas user guide: https://pandas.pydata.org/docs/user_guide/index.html\n",
    "- Matplotlib user guide: https://matplotlib.org/3.3.1/users/index.html\n",
    "- Seaborn user guide & tutorial: https://seaborn.pydata.org/tutorial.html\n",
    "- `opendatasets` Python library: https://github.com/JovianML/opendatasets\n"
   ]
  },
  {
   "cell_type": "code",
   "execution_count": null,
   "metadata": {},
   "outputs": [],
   "source": []
  }
 ],
 "metadata": {
  "kernelspec": {
   "display_name": "Python 3",
   "language": "python",
   "name": "python3"
  },
  "language_info": {
   "codemirror_mode": {
    "name": "ipython",
    "version": 3
   },
   "file_extension": ".py",
   "mimetype": "text/x-python",
   "name": "python",
   "nbconvert_exporter": "python",
   "pygments_lexer": "ipython3",
   "version": "3.8.3"
  }
 },
 "nbformat": 4,
 "nbformat_minor": 1
}
